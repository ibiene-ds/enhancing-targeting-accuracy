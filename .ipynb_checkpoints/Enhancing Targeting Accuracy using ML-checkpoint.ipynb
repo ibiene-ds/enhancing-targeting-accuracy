{
 "cells": [
  {
   "cell_type": "markdown",
   "id": "c633453e",
   "metadata": {},
   "source": [
    "\n",
    "# Table of contents\n",
    "\n",
    "- [00. Project Overview](#overview-main)\n",
    "    - [Context](#overview-context)\n",
    "    - [Actions](#overview-actions)\n",
    "    - [Results](#overview-results)\n",
    "    - [Growth/Next Steps](#overview-growth)\n",
    "- [01. Data Overview](#data-overview)\n",
    "- [02. Modelling Overview](#modelling-overview)\n",
    "- [03. Logistic Regression](#logreg-title)\n",
    "- [04. Decision Tree](#clftree-title)\n",
    "- [05. Random Forest](#rf-title)\n",
    "- [06. KNN](#knn-title)\n",
    "- [07. Modelling Summary](#modelling-summary)\n",
    "- [08. Application](#modelling-application)\n",
    "- [09. Growth & Next Steps](#growth-next-steps)"
   ]
  },
  {
   "cell_type": "markdown",
   "id": "d103e905",
   "metadata": {},
   "source": [
    "### Context <a name=\"overview-context\"></a>\n",
    "\n",
    "\n",
    "Our client, a grocery retailer, sent out mailers in a marketing campaign for their new *delivery club*.  This costs customers 100 dollars per year for membership, and offered free grocery deliveries, rather than the normal cost of $10 per delivery.\n",
    "\n",
    "For this, they sent mailers to their entire customer base (apart from a control group) but this proved expensive.  **For the next batch of communications they would like to save costs by *only* mailing customers that were likely to sign up.**\n",
    "\n",
    "Based upon the results of the last campaign and the customer data available, we will look to understand the *probability* of customers signing up for the *delivery club*.  This would allow the client to mail a more targeted selection of customers, lowering costs, and improving ROI.\n",
    "\n",
    "Let's use Machine Learning to take on this task!\n"
   ]
  },
  {
   "cell_type": "markdown",
   "id": "45a85164",
   "metadata": {},
   "source": [
    "### Actions <a name=\"overview-actions\"></a>\n",
    "\n",
    "\n",
    "We firstly needed to compile the necessary data from tables in the database, gathering key customer metrics that may help predict *delivery club* membership.\n",
    "\n",
    "Within our historical dataset from the last campaign, we found that 69% of customers did not sign up and 31% did.  This tells us that while the data isn't perfectly balanced at 50:50, it isn't *too* imbalanced either.  Even so, we make sure to not rely on classification accuracy alone when assessing results - also analysing Precision, Recall, and F1-Score.\n",
    "\n",
    "As we are predicting a binary output, we tested four classification modelling approaches, namely:\n",
    "\n",
    "* Logistic Regression\n",
    "* Decision Tree\n",
    "* Random Forest\n",
    "* K Nearest Neighbours (KNN)\n",
    "* XGBoost\n",
    "* LightGBM\n",
    "\n",
    "For each model, we will import the data in the same way but will need to pre-process the data based up the requirements of each particular algorithm.  We will train & test each model, look to refine each to provide optimal performance, and then measure this predictive performance based on several metrics to give a well-rounded overview of which is best.\n",
    "\n",
    "This notebook goes through all the steps necessary to building a predictive model that would help the company - from data import, preprocessing to model validation.\n",
    "\n",
    "\n"
   ]
  },
  {
   "cell_type": "markdown",
   "id": "ef7bc16f",
   "metadata": {},
   "source": [
    "### Growth/Next Steps <a name=\"overview-growth\"></a>\n",
    "\n",
    "While predictive accuracy was relatively high - other modelling approaches could be tested to see if even more accuracy could be gained. But a word of caution here, we have to know when to when to call a model 'good enough' and that is usually decided prior to building the model.\n",
    "\n",
    "From a data point of view, further variables could be collected, and further feature engineering could be undertaken to ensure that we have as much useful information available for predicting customer loyalty."
   ]
  },
  {
   "cell_type": "markdown",
   "id": "11dc56f6",
   "metadata": {},
   "source": [
    "# Data Import and EDA\n"
   ]
  },
  {
   "cell_type": "code",
   "execution_count": 350,
   "id": "f29ab257",
   "metadata": {},
   "outputs": [],
   "source": [
    "import pandas as pd\n",
    "import pickle\n",
    "import matplotlib.pyplot as plt\n",
    "import numpy as np\n",
    "import plotly.express as px\n",
    "from sklearn.linear_model import LogisticRegression\n",
    "from sklearn.tree import DecisionTreeClassifier, plot_tree\n",
    "from sklearn.utils import shuffle\n",
    "from sklearn.model_selection import train_test_split, cross_val_score, KFold\n",
    "from sklearn.metrics import confusion_matrix, accuracy_score, precision_score, recall_score, f1_score\n",
    "from sklearn.preprocessing import OneHotEncoder, LabelBinarizer, StandardScaler,MinMaxScaler\n",
    "from sklearn.feature_selection import RFECV\n",
    "from sklearn_pandas import DataFrameMapper\n"
   ]
  },
  {
   "cell_type": "code",
   "execution_count": 351,
   "id": "5ed48a5b",
   "metadata": {},
   "outputs": [],
   "source": [
    "#import pre-cleaned modelling data\n",
    "\n",
    "data = pickle.load(open(\"C:/Users/Ibiene/OneDrive/DataScience_MachineLearning/Data Science Infinity/Machine Learning/Model Building/data/abc_classification_modelling.p\", \"rb\"))"
   ]
  },
  {
   "cell_type": "code",
   "execution_count": 352,
   "id": "044d8ced",
   "metadata": {},
   "outputs": [
    {
     "data": {
      "text/html": [
       "<div>\n",
       "<style scoped>\n",
       "    .dataframe tbody tr th:only-of-type {\n",
       "        vertical-align: middle;\n",
       "    }\n",
       "\n",
       "    .dataframe tbody tr th {\n",
       "        vertical-align: top;\n",
       "    }\n",
       "\n",
       "    .dataframe thead th {\n",
       "        text-align: right;\n",
       "    }\n",
       "</style>\n",
       "<table border=\"1\" class=\"dataframe\">\n",
       "  <thead>\n",
       "    <tr style=\"text-align: right;\">\n",
       "      <th></th>\n",
       "      <th>customer_id</th>\n",
       "      <th>signup_flag</th>\n",
       "      <th>distance_from_store</th>\n",
       "      <th>gender</th>\n",
       "      <th>credit_score</th>\n",
       "      <th>total_sales</th>\n",
       "      <th>total_items</th>\n",
       "      <th>transaction_count</th>\n",
       "      <th>product_area_count</th>\n",
       "      <th>average_basket_value</th>\n",
       "    </tr>\n",
       "  </thead>\n",
       "  <tbody>\n",
       "    <tr>\n",
       "      <th>0</th>\n",
       "      <td>74</td>\n",
       "      <td>1</td>\n",
       "      <td>3.38</td>\n",
       "      <td>F</td>\n",
       "      <td>0.59</td>\n",
       "      <td>1586.89</td>\n",
       "      <td>195</td>\n",
       "      <td>26</td>\n",
       "      <td>5</td>\n",
       "      <td>61.034231</td>\n",
       "    </tr>\n",
       "    <tr>\n",
       "      <th>1</th>\n",
       "      <td>524</td>\n",
       "      <td>1</td>\n",
       "      <td>4.76</td>\n",
       "      <td>F</td>\n",
       "      <td>0.52</td>\n",
       "      <td>2397.26</td>\n",
       "      <td>258</td>\n",
       "      <td>27</td>\n",
       "      <td>5</td>\n",
       "      <td>88.787407</td>\n",
       "    </tr>\n",
       "    <tr>\n",
       "      <th>2</th>\n",
       "      <td>607</td>\n",
       "      <td>1</td>\n",
       "      <td>4.45</td>\n",
       "      <td>F</td>\n",
       "      <td>0.49</td>\n",
       "      <td>1279.91</td>\n",
       "      <td>183</td>\n",
       "      <td>22</td>\n",
       "      <td>5</td>\n",
       "      <td>58.177727</td>\n",
       "    </tr>\n",
       "    <tr>\n",
       "      <th>3</th>\n",
       "      <td>343</td>\n",
       "      <td>0</td>\n",
       "      <td>0.91</td>\n",
       "      <td>M</td>\n",
       "      <td>0.54</td>\n",
       "      <td>967.14</td>\n",
       "      <td>102</td>\n",
       "      <td>17</td>\n",
       "      <td>5</td>\n",
       "      <td>56.890588</td>\n",
       "    </tr>\n",
       "    <tr>\n",
       "      <th>4</th>\n",
       "      <td>322</td>\n",
       "      <td>1</td>\n",
       "      <td>3.02</td>\n",
       "      <td>F</td>\n",
       "      <td>0.63</td>\n",
       "      <td>1566.35</td>\n",
       "      <td>182</td>\n",
       "      <td>30</td>\n",
       "      <td>5</td>\n",
       "      <td>52.211667</td>\n",
       "    </tr>\n",
       "  </tbody>\n",
       "</table>\n",
       "</div>"
      ],
      "text/plain": [
       "   customer_id  signup_flag  distance_from_store gender  credit_score  \\\n",
       "0           74            1                 3.38      F          0.59   \n",
       "1          524            1                 4.76      F          0.52   \n",
       "2          607            1                 4.45      F          0.49   \n",
       "3          343            0                 0.91      M          0.54   \n",
       "4          322            1                 3.02      F          0.63   \n",
       "\n",
       "   total_sales  total_items  transaction_count  product_area_count  \\\n",
       "0      1586.89          195                 26                   5   \n",
       "1      2397.26          258                 27                   5   \n",
       "2      1279.91          183                 22                   5   \n",
       "3       967.14          102                 17                   5   \n",
       "4      1566.35          182                 30                   5   \n",
       "\n",
       "   average_basket_value  \n",
       "0             61.034231  \n",
       "1             88.787407  \n",
       "2             58.177727  \n",
       "3             56.890588  \n",
       "4             52.211667  "
      ]
     },
     "execution_count": 352,
     "metadata": {},
     "output_type": "execute_result"
    }
   ],
   "source": [
    "data.head()"
   ]
  },
  {
   "cell_type": "code",
   "execution_count": 353,
   "id": "bb107e39",
   "metadata": {},
   "outputs": [],
   "source": [
    "# note x and y values. y is the signup flag. "
   ]
  },
  {
   "cell_type": "code",
   "execution_count": 354,
   "id": "d6e50ce6",
   "metadata": {},
   "outputs": [
    {
     "data": {
      "text/plain": [
       "(860, 10)"
      ]
     },
     "execution_count": 354,
     "metadata": {},
     "output_type": "execute_result"
    }
   ],
   "source": [
    "data.shape"
   ]
  },
  {
   "cell_type": "code",
   "execution_count": 355,
   "id": "e100ac02",
   "metadata": {},
   "outputs": [
    {
     "data": {
      "text/plain": [
       "customer_id             0\n",
       "signup_flag             0\n",
       "distance_from_store     5\n",
       "gender                  5\n",
       "credit_score            8\n",
       "total_sales             0\n",
       "total_items             0\n",
       "transaction_count       0\n",
       "product_area_count      0\n",
       "average_basket_value    0\n",
       "dtype: int64"
      ]
     },
     "execution_count": 355,
     "metadata": {},
     "output_type": "execute_result"
    }
   ],
   "source": [
    "#check for missing values \n",
    "data.isna().sum()"
   ]
  },
  {
   "cell_type": "code",
   "execution_count": 356,
   "id": "0529a7a5",
   "metadata": {},
   "outputs": [
    {
     "data": {
      "text/plain": [
       "customer_id             0.000000\n",
       "signup_flag             0.000000\n",
       "distance_from_store     0.581395\n",
       "gender                  0.581395\n",
       "credit_score            0.930233\n",
       "total_sales             0.000000\n",
       "total_items             0.000000\n",
       "transaction_count       0.000000\n",
       "product_area_count      0.000000\n",
       "average_basket_value    0.000000\n",
       "dtype: float64"
      ]
     },
     "execution_count": 356,
     "metadata": {},
     "output_type": "execute_result"
    }
   ],
   "source": [
    "#check for percentage of missing values\n",
    "(data.isna().sum()/len(data))*100"
   ]
  },
  {
   "cell_type": "markdown",
   "id": "7ebcf59b",
   "metadata": {},
   "source": [
    "Less than 1% of missing values in 3 columns, so no need for imputation by mean or most common value. Simply removing the missing values would not affect the integrity of the data"
   ]
  },
  {
   "cell_type": "code",
   "execution_count": 51,
   "id": "f6787e79",
   "metadata": {},
   "outputs": [],
   "source": [
    "#drop nulls\n",
    "data = data.dropna()"
   ]
  },
  {
   "cell_type": "code",
   "execution_count": 52,
   "id": "331dfc8d",
   "metadata": {},
   "outputs": [],
   "source": [
    "#drop unnecessary cols\n",
    "data.drop(\"customer_id\", axis = 1, inplace= True)"
   ]
  },
  {
   "cell_type": "code",
   "execution_count": 53,
   "id": "d6cb69cf",
   "metadata": {},
   "outputs": [],
   "source": [
    "#shuffle data\n",
    "data= shuffle(data, random_state = 23)"
   ]
  },
  {
   "cell_type": "code",
   "execution_count": 54,
   "id": "5abef854",
   "metadata": {},
   "outputs": [
    {
     "data": {
      "text/plain": [
       "0    0.695396\n",
       "1    0.304604\n",
       "Name: signup_flag, dtype: float64"
      ]
     },
     "execution_count": 54,
     "metadata": {},
     "output_type": "execute_result"
    }
   ],
   "source": [
    "#since this is a classification task, check for class balance\n",
    "data.signup_flag.value_counts(normalize = True)"
   ]
  },
  {
   "cell_type": "code",
   "execution_count": 55,
   "id": "90911a37",
   "metadata": {},
   "outputs": [
    {
     "data": {
      "text/plain": [
       "0    589\n",
       "1    258\n",
       "Name: signup_flag, dtype: int64"
      ]
     },
     "execution_count": 55,
     "metadata": {},
     "output_type": "execute_result"
    }
   ],
   "source": [
    "data.signup_flag.value_counts()"
   ]
  },
  {
   "cell_type": "markdown",
   "id": "138e3101",
   "metadata": {},
   "source": [
    "70/30 split - not terribly unbalanced, but would be thorough to use precision, recall and f1-score in addition to accuracy to assess model results "
   ]
  },
  {
   "cell_type": "code",
   "execution_count": 357,
   "id": "f13bdb34",
   "metadata": {},
   "outputs": [
    {
     "data": {
      "text/html": [
       "<div>\n",
       "<style scoped>\n",
       "    .dataframe tbody tr th:only-of-type {\n",
       "        vertical-align: middle;\n",
       "    }\n",
       "\n",
       "    .dataframe tbody tr th {\n",
       "        vertical-align: top;\n",
       "    }\n",
       "\n",
       "    .dataframe thead th {\n",
       "        text-align: right;\n",
       "    }\n",
       "</style>\n",
       "<table border=\"1\" class=\"dataframe\">\n",
       "  <thead>\n",
       "    <tr style=\"text-align: right;\">\n",
       "      <th></th>\n",
       "      <th>customer_id</th>\n",
       "      <th>signup_flag</th>\n",
       "      <th>distance_from_store</th>\n",
       "      <th>credit_score</th>\n",
       "      <th>total_sales</th>\n",
       "      <th>total_items</th>\n",
       "      <th>transaction_count</th>\n",
       "      <th>product_area_count</th>\n",
       "      <th>average_basket_value</th>\n",
       "    </tr>\n",
       "  </thead>\n",
       "  <tbody>\n",
       "    <tr>\n",
       "      <th>count</th>\n",
       "      <td>860.000000</td>\n",
       "      <td>860.000000</td>\n",
       "      <td>855.000000</td>\n",
       "      <td>852.000000</td>\n",
       "      <td>860.000000</td>\n",
       "      <td>860.000000</td>\n",
       "      <td>860.000000</td>\n",
       "      <td>860.000000</td>\n",
       "      <td>860.000000</td>\n",
       "    </tr>\n",
       "    <tr>\n",
       "      <th>mean</th>\n",
       "      <td>435.876744</td>\n",
       "      <td>0.310465</td>\n",
       "      <td>2.617263</td>\n",
       "      <td>0.597265</td>\n",
       "      <td>973.271919</td>\n",
       "      <td>144.187209</td>\n",
       "      <td>22.237209</td>\n",
       "      <td>4.179070</td>\n",
       "      <td>38.221289</td>\n",
       "    </tr>\n",
       "    <tr>\n",
       "      <th>std</th>\n",
       "      <td>251.233448</td>\n",
       "      <td>0.462953</td>\n",
       "      <td>14.330615</td>\n",
       "      <td>0.102457</td>\n",
       "      <td>1072.015798</td>\n",
       "      <td>124.824565</td>\n",
       "      <td>11.703537</td>\n",
       "      <td>0.918332</td>\n",
       "      <td>24.291227</td>\n",
       "    </tr>\n",
       "    <tr>\n",
       "      <th>min</th>\n",
       "      <td>1.000000</td>\n",
       "      <td>0.000000</td>\n",
       "      <td>0.000000</td>\n",
       "      <td>0.260000</td>\n",
       "      <td>2.090000</td>\n",
       "      <td>1.000000</td>\n",
       "      <td>1.000000</td>\n",
       "      <td>1.000000</td>\n",
       "      <td>2.090000</td>\n",
       "    </tr>\n",
       "    <tr>\n",
       "      <th>25%</th>\n",
       "      <td>218.750000</td>\n",
       "      <td>0.000000</td>\n",
       "      <td>0.735000</td>\n",
       "      <td>0.530000</td>\n",
       "      <td>385.725000</td>\n",
       "      <td>77.000000</td>\n",
       "      <td>16.000000</td>\n",
       "      <td>4.000000</td>\n",
       "      <td>21.773295</td>\n",
       "    </tr>\n",
       "    <tr>\n",
       "      <th>50%</th>\n",
       "      <td>435.500000</td>\n",
       "      <td>0.000000</td>\n",
       "      <td>1.660000</td>\n",
       "      <td>0.590000</td>\n",
       "      <td>692.505000</td>\n",
       "      <td>124.000000</td>\n",
       "      <td>23.000000</td>\n",
       "      <td>4.000000</td>\n",
       "      <td>31.127857</td>\n",
       "    </tr>\n",
       "    <tr>\n",
       "      <th>75%</th>\n",
       "      <td>653.250000</td>\n",
       "      <td>1.000000</td>\n",
       "      <td>2.935000</td>\n",
       "      <td>0.670000</td>\n",
       "      <td>1131.700000</td>\n",
       "      <td>171.000000</td>\n",
       "      <td>28.000000</td>\n",
       "      <td>5.000000</td>\n",
       "      <td>47.027086</td>\n",
       "    </tr>\n",
       "    <tr>\n",
       "      <th>max</th>\n",
       "      <td>870.000000</td>\n",
       "      <td>1.000000</td>\n",
       "      <td>400.970000</td>\n",
       "      <td>0.880000</td>\n",
       "      <td>7372.060000</td>\n",
       "      <td>910.000000</td>\n",
       "      <td>75.000000</td>\n",
       "      <td>5.000000</td>\n",
       "      <td>141.054091</td>\n",
       "    </tr>\n",
       "  </tbody>\n",
       "</table>\n",
       "</div>"
      ],
      "text/plain": [
       "       customer_id  signup_flag  distance_from_store  credit_score  \\\n",
       "count   860.000000   860.000000           855.000000    852.000000   \n",
       "mean    435.876744     0.310465             2.617263      0.597265   \n",
       "std     251.233448     0.462953            14.330615      0.102457   \n",
       "min       1.000000     0.000000             0.000000      0.260000   \n",
       "25%     218.750000     0.000000             0.735000      0.530000   \n",
       "50%     435.500000     0.000000             1.660000      0.590000   \n",
       "75%     653.250000     1.000000             2.935000      0.670000   \n",
       "max     870.000000     1.000000           400.970000      0.880000   \n",
       "\n",
       "       total_sales  total_items  transaction_count  product_area_count  \\\n",
       "count   860.000000   860.000000         860.000000          860.000000   \n",
       "mean    973.271919   144.187209          22.237209            4.179070   \n",
       "std    1072.015798   124.824565          11.703537            0.918332   \n",
       "min       2.090000     1.000000           1.000000            1.000000   \n",
       "25%     385.725000    77.000000          16.000000            4.000000   \n",
       "50%     692.505000   124.000000          23.000000            4.000000   \n",
       "75%    1131.700000   171.000000          28.000000            5.000000   \n",
       "max    7372.060000   910.000000          75.000000            5.000000   \n",
       "\n",
       "       average_basket_value  \n",
       "count            860.000000  \n",
       "mean              38.221289  \n",
       "std               24.291227  \n",
       "min                2.090000  \n",
       "25%               21.773295  \n",
       "50%               31.127857  \n",
       "75%               47.027086  \n",
       "max              141.054091  "
      ]
     },
     "execution_count": 357,
     "metadata": {},
     "output_type": "execute_result"
    }
   ],
   "source": [
    "data.describe()"
   ]
  },
  {
   "cell_type": "code",
   "execution_count": 83,
   "id": "5d3a693a",
   "metadata": {
    "scrolled": false
   },
   "outputs": [
    {
     "data": {
      "image/png": "[encoded data removed]",
      "text/plain": [
       "<Figure size 1152x720 with 8 Axes>"
      ]
     },
     "metadata": {
      "needs_background": "light"
     },
     "output_type": "display_data"
    }
   ],
   "source": [
    "data.plot(kind= 'box', subplots= True, layout = (2, 4), sharex= False, sharey= False, figsize =(16, 10) )\n",
    "plt.show()"
   ]
  },
  {
   "cell_type": "markdown",
   "id": "f9b1964a",
   "metadata": {},
   "source": [
    "Outliers seem to exist on some columns like:\n",
    "    - distance from store, \n",
    "    - total sales,\n",
    "    - total items,\n",
    "    - transaction count and \n",
    "    average basket value"
   ]
  },
  {
   "cell_type": "code",
   "execution_count": 74,
   "id": "ad0332a9",
   "metadata": {},
   "outputs": [
    {
     "data": {
      "image/png": "[encoded data removed]",
      "text/plain": [
       "<Figure size 1152x720 with 9 Axes>"
      ]
     },
     "metadata": {
      "needs_background": "light"
     },
     "output_type": "display_data"
    }
   ],
   "source": [
    "data.hist(figsize =(16, 10))\n",
    "plt.show()"
   ]
  },
  {
   "cell_type": "code",
   "execution_count": 360,
   "id": "de8ef207",
   "metadata": {},
   "outputs": [
    {
     "data": {
      "application/vnd.plotly.v1+json": {
       "config": {
        "plotlyServerURL": "https://plot.ly"
       },
       "data": [
        {
         "alignmentgroup": "True",
         "bingroup": "x",
         "hovertemplate": "distance_from_store=%{x}<br>count=%{y}<extra></extra>",
         "legendgroup": "",
         "marker": {
          "color": "#636efa",
          "pattern": {
           "shape": ""
          }
         },
         "name": "",
         "nbinsx": 30,
         "offsetgroup": "",
         "orientation": "v",
         "showlegend": false,
         "type": "histogram",
         "x": [
          3.38,
          4.76,
          4.45,
          0.91,
          3.02,
          1.02,
          4.78,
          3.49,
          14.91,
          0.02,
          0.25,
          2.74,
          4.74,
          2.02,
          3.18,
          0.22,
          0.05,
          1.17,
          4.84,
          1.74,
          4.38,
          1.59,
          2.04,
          1.41,
          4.47,
          4.97,
          1.1,
          3.83,
          2.57,
          0.87,
          2.94,
          3.97,
          2.76,
          2.38,
          3.79,
          44.37,
          2.46,
          0.86,
          3.8,
          2.36,
          4.5,
          2.52,
          4.93,
          1.12,
          3.39,
          0.75,
          0.62,
          2.88,
          4.75,
          2.41,
          3.49,
          0.87,
          3.2,
          1.32,
          3.41,
          3.8,
          2.07,
          0.41,
          2.18,
          2.52,
          3.07,
          2.76,
          0.92,
          2.9,
          0.8,
          0.74,
          1.82,
          3.71,
          3.68,
          3.54,
          2.28,
          0.07,
          1.33,
          3.38,
          1.59,
          3.35,
          1.51,
          1.52,
          0.32,
          3.99,
          2.81,
          0.79,
          2.31,
          1.37,
          2.44,
          0.85,
          2.6,
          0.32,
          1.44,
          0.15,
          3.07,
          2.84,
          0,
          2.18,
          3.89,
          0.8,
          0.02,
          0.73,
          3.41,
          0.95,
          3,
          1.87,
          2.6,
          0.87,
          3.71,
          0.3,
          1.96,
          2.91,
          2.92,
          1.49,
          2.88,
          3.92,
          3.25,
          3.3,
          1.89,
          0.43,
          2.78,
          1.53,
          0.56,
          2.09,
          0.56,
          1.66,
          3.54,
          0.1,
          1.57,
          1.51,
          0.83,
          1.31,
          2.32,
          2.23,
          1.2,
          0,
          0.41,
          1.23,
          2.04,
          2.56,
          3,
          0.11,
          3.44,
          0.17,
          1.8,
          3.77,
          2.16,
          1.35,
          2.06,
          1.57,
          1.34,
          0.25,
          2.17,
          3.09,
          2.52,
          3.85,
          2.67,
          1.7,
          0.95,
          2.65,
          1.85,
          0.3,
          1.72,
          3.74,
          2.73,
          2.3,
          2.32,
          1.11,
          1.84,
          0.34,
          3.58,
          2.46,
          3.76,
          null,
          2.75,
          3.25,
          2.26,
          2.42,
          2,
          1.26,
          2.73,
          2.87,
          0.31,
          0.28,
          2.17,
          3.48,
          2.34,
          2.35,
          2.07,
          2.49,
          3.54,
          3.55,
          0.36,
          0.78,
          3.64,
          1.62,
          2.84,
          0.21,
          3.3,
          3.09,
          3.27,
          113.89,
          1.14,
          1.13,
          0.63,
          0.28,
          2.49,
          0.37,
          1.54,
          4.62,
          4.53,
          0.14,
          0.11,
          4.18,
          4.43,
          4.42,
          2.69,
          3.46,
          0.67,
          0.07,
          4.04,
          4.24,
          1.34,
          3.91,
          4.49,
          3.85,
          1.77,
          3.77,
          1.74,
          3.42,
          1.85,
          0.01,
          2.92,
          1.1,
          3.92,
          1.08,
          2.95,
          4.77,
          0.18,
          1.01,
          0.31,
          3.84,
          1.63,
          2.62,
          0.72,
          1.8,
          0.97,
          4.71,
          3.04,
          2.66,
          4.52,
          0.12,
          0.56,
          2.06,
          1.26,
          3.81,
          1.19,
          2.84,
          2.09,
          1.04,
          0.92,
          0.14,
          0.07,
          0.76,
          2.73,
          1.85,
          1.88,
          0.28,
          0.95,
          2.87,
          3.51,
          1.27,
          3.45,
          0.81,
          1.59,
          1.34,
          0.06,
          2.72,
          3.68,
          0.07,
          0.87,
          1.5,
          2.74,
          1.93,
          0.94,
          2.72,
          1.8,
          1.17,
          3.19,
          2.54,
          1.19,
          2.08,
          1.98,
          2.13,
          2.69,
          2.67,
          3.42,
          2.78,
          2.48,
          0.57,
          2.87,
          1.88,
          2.6,
          0.46,
          0.57,
          0.37,
          2.51,
          3.47,
          1.26,
          2.24,
          1.12,
          3.12,
          3.36,
          1.38,
          2.76,
          3.48,
          2.89,
          2.63,
          null,
          3.99,
          3.49,
          2.2,
          2.47,
          3.9,
          3.53,
          3.66,
          3.92,
          2.02,
          2.62,
          3.23,
          0.17,
          2.22,
          1.17,
          1.93,
          0.4,
          2.34,
          0.54,
          0.58,
          2.83,
          3.96,
          1.99,
          2.58,
          1.81,
          1.89,
          3.3,
          0.23,
          3.35,
          3.25,
          2.34,
          0.09,
          3.12,
          2.27,
          2.4,
          1.15,
          0.04,
          0.05,
          1.39,
          0.41,
          2.8,
          0.14,
          1.06,
          1.08,
          0.71,
          0.39,
          0.48,
          3.11,
          1.39,
          3.49,
          3.39,
          0.92,
          3.7,
          1.48,
          2.53,
          2.85,
          1.44,
          2.61,
          3.44,
          2.19,
          2.82,
          1.06,
          2.27,
          0.4,
          1.35,
          0.35,
          1.32,
          3.92,
          1.36,
          3.37,
          3.78,
          3.37,
          2.3,
          0.52,
          1.66,
          0.21,
          2.7,
          2.4,
          3.51,
          0.85,
          3.29,
          2.65,
          1.22,
          2.05,
          3.15,
          0.5,
          0.75,
          0.7,
          0.82,
          0.99,
          0.06,
          0.59,
          0.68,
          0.77,
          0.23,
          0.46,
          0.86,
          0.79,
          0.93,
          0.08,
          0.37,
          0.27,
          0.91,
          0.2,
          0.99,
          0.38,
          0.81,
          0.66,
          0.1,
          0.81,
          0.81,
          0.38,
          0.71,
          0.54,
          0.51,
          0.5,
          0.9,
          0.48,
          0.9,
          0.13,
          0.98,
          0.71,
          0.91,
          0.06,
          0.79,
          0.18,
          0.28,
          0.96,
          0.54,
          0.17,
          0.57,
          0.82,
          0.43,
          0.5,
          0.99,
          0.46,
          0.43,
          0.53,
          0.07,
          0.89,
          0.39,
          0.28,
          0.16,
          0.39,
          0,
          0.18,
          0.77,
          0.62,
          0.09,
          0.23,
          0.63,
          0.12,
          null,
          0.48,
          0.75,
          0.49,
          0.59,
          0.97,
          0.56,
          0.41,
          0.13,
          0.2,
          0.5,
          0.5,
          0.31,
          0.41,
          1,
          0.54,
          0.22,
          0.44,
          0.59,
          0.87,
          0.17,
          0.53,
          0.04,
          0.39,
          1,
          0.16,
          0.48,
          0.22,
          0.53,
          0.73,
          0.65,
          0.03,
          0.65,
          0.78,
          1.97,
          1.35,
          0.44,
          0.99,
          1.22,
          1.36,
          0.31,
          1.43,
          1,
          1.81,
          1.69,
          0.91,
          1.1,
          0.23,
          0.06,
          1.92,
          1.22,
          0.32,
          1.95,
          1.94,
          0.33,
          0.19,
          1.12,
          0.94,
          0.72,
          1.09,
          0.64,
          0.68,
          0.07,
          0.76,
          0.45,
          0.76,
          1.96,
          0.16,
          1.16,
          1.1,
          0.13,
          1.97,
          1.22,
          1.84,
          0.48,
          1.93,
          0.26,
          0.99,
          1.49,
          0.25,
          1.84,
          1.03,
          0.12,
          1.51,
          0.4,
          1.67,
          0.54,
          1.87,
          1.63,
          0.05,
          1.2,
          0.27,
          1.5,
          1.96,
          1.81,
          1.78,
          0.04,
          1.85,
          1.09,
          0.97,
          1.58,
          1.26,
          1.5,
          1.31,
          1.93,
          0.2,
          0.68,
          1.93,
          0.37,
          0.24,
          null,
          0.44,
          1.6,
          0.51,
          0.72,
          1.59,
          1.04,
          0.59,
          0.95,
          0.24,
          0.53,
          0.41,
          1.53,
          0.18,
          0.61,
          0.5,
          0.19,
          1.36,
          1.48,
          0.47,
          1.53,
          1.4,
          1.54,
          1.18,
          2.53,
          3.2,
          0.83,
          2.05,
          0.88,
          0.88,
          3.77,
          1.2,
          2.74,
          1.58,
          4.55,
          0.95,
          2.49,
          18.09,
          2.78,
          1.08,
          4.38,
          2.68,
          1.13,
          1.66,
          1.1,
          2.58,
          4.99,
          4.58,
          3.91,
          1.64,
          1.07,
          2.17,
          3.19,
          3.36,
          3.9,
          1,
          2.35,
          0.09,
          0.65,
          2.08,
          2.33,
          2.82,
          4.85,
          4.63,
          1.12,
          1.61,
          2.62,
          3.57,
          2.36,
          4.06,
          3.6,
          1.4,
          2.41,
          0.9,
          4.66,
          1.71,
          4.01,
          4.8,
          2.74,
          4.66,
          3.23,
          3.89,
          4.02,
          2.69,
          0.07,
          0.37,
          0.66,
          4.19,
          3.1,
          3.31,
          3.78,
          0.7,
          0.11,
          2.03,
          4.08,
          1.34,
          4.34,
          1.25,
          0.89,
          4.05,
          0.36,
          0.27,
          3.55,
          3.59,
          0.67,
          0.01,
          4.28,
          1.06,
          2.83,
          3.06,
          2.24,
          1.64,
          2.53,
          1.13,
          2.58,
          4.13,
          4.53,
          3.69,
          1.53,
          2.86,
          0.07,
          1.48,
          1.04,
          3.63,
          4.16,
          2.06,
          2.41,
          0.72,
          1.94,
          3.12,
          3.5,
          0.9,
          4.17,
          3.56,
          0.81,
          0.64,
          1.44,
          1.32,
          1.64,
          0.2,
          4.12,
          0.73,
          4.5,
          1.84,
          2.9,
          0.75,
          8.48,
          3.03,
          2.4,
          1.42,
          1.33,
          4.26,
          2.66,
          1.06,
          7.84,
          4.17,
          0.83,
          2.98,
          2.26,
          3.95,
          1.77,
          3.7,
          2.53,
          0.37,
          4.38,
          0.64,
          4,
          4.78,
          1.29,
          3.97,
          3.97,
          2.15,
          2.43,
          2.24,
          1.38,
          1.96,
          3.53,
          1.96,
          1.35,
          0.87,
          0.98,
          1.36,
          3.56,
          0.05,
          0.39,
          2.11,
          1.04,
          4.04,
          2.28,
          3.16,
          2.57,
          3.19,
          1.83,
          4.74,
          3.77,
          6.28,
          3.83,
          6.59,
          0.87,
          6.51,
          2.91,
          3.21,
          6.12,
          5.85,
          3.65,
          0.51,
          2.49,
          3.66,
          0.71,
          6.33,
          0.57,
          5.38,
          5.88,
          3.43,
          2.5,
          1.46,
          7.93,
          6.41,
          3.73,
          2.68,
          0.93,
          1.34,
          0.22,
          1.65,
          6.28,
          1.71,
          5.95,
          3.73,
          4.22,
          1.13,
          3.81,
          1.94,
          2.46,
          1.51,
          1.83,
          1.69,
          3.22,
          1.88,
          0.23,
          3.36,
          4.64,
          0.88,
          1.12,
          0.12,
          1.17,
          1.6,
          0.74,
          2.6,
          1.08,
          0.61,
          0.97,
          3.9,
          1.69,
          0.03,
          4.44,
          1.76,
          3.41,
          0.19,
          3.18,
          null,
          1.5,
          2.93,
          0.66,
          2.07,
          4.23,
          4.65,
          3.56,
          0.78,
          0.33,
          2.35,
          4.55,
          1.79,
          0.45,
          2.59,
          400.97,
          0.32,
          2.14,
          1.62,
          4.36,
          4.38,
          2.36,
          1.87,
          0.21,
          0.07
         ],
         "xaxis": "x",
         "yaxis": "y"
        }
       ],
       "layout": {
        "barmode": "relative",
        "legend": {
         "tracegroupgap": 0
        },
        "margin": {
         "t": 60
        },
        "template": {
         "data": {
          "bar": [
           {
            "error_x": {
             "color": "#2a3f5f"
            },
            "error_y": {
             "color": "#2a3f5f"
            },
            "marker": {
             "line": {
              "color": "#E5ECF6",
              "width": 0.5
             },
             "pattern": {
              "fillmode": "overlay",
              "size": 10,
              "solidity": 0.2
             }
            },
            "type": "bar"
           }
          ],
          "barpolar": [
           {
            "marker": {
             "line": {
              "color": "#E5ECF6",
              "width": 0.5
             },
             "pattern": {
              "fillmode": "overlay",
              "size": 10,
              "solidity": 0.2
             }
            },
            "type": "barpolar"
           }
          ],
          "carpet": [
           {
            "aaxis": {
             "endlinecolor": "#2a3f5f",
             "gridcolor": "white",
             "linecolor": "white",
             "minorgridcolor": "white",
             "startlinecolor": "#2a3f5f"
            },
            "baxis": {
             "endlinecolor": "#2a3f5f",
             "gridcolor": "white",
             "linecolor": "white",
             "minorgridcolor": "white",
             "startlinecolor": "#2a3f5f"
            },
            "type": "carpet"
           }
          ],
          "choropleth": [
           {
            "colorbar": {
             "outlinewidth": 0,
             "ticks": ""
            },
            "type": "choropleth"
           }
          ],
          "contour": [
           {
            "colorbar": {
             "outlinewidth": 0,
             "ticks": ""
            },
            "colorscale": [
             [
              0,
              "#0d0887"
             ],
             [
              0.1111111111111111,
              "#46039f"
             ],
             [
              0.2222222222222222,
              "#7201a8"
             ],
             [
              0.3333333333333333,
              "#9c179e"
             ],
             [
              0.4444444444444444,
              "#bd3786"
             ],
             [
              0.5555555555555556,
              "#d8576b"
             ],
             [
              0.6666666666666666,
              "#ed7953"
             ],
             [
              0.7777777777777778,
              "#fb9f3a"
             ],
             [
              0.8888888888888888,
              "#fdca26"
             ],
             [
              1,
              "#f0f921"
             ]
            ],
            "type": "contour"
           }
          ],
          "contourcarpet": [
           {
            "colorbar": {
             "outlinewidth": 0,
             "ticks": ""
            },
            "type": "contourcarpet"
           }
          ],
          "heatmap": [
           {
            "colorbar": {
             "outlinewidth": 0,
             "ticks": ""
            },
            "colorscale": [
             [
              0,
              "#0d0887"
             ],
             [
              0.1111111111111111,
              "#46039f"
             ],
             [
              0.2222222222222222,
              "#7201a8"
             ],
             [
              0.3333333333333333,
              "#9c179e"
             ],
             [
              0.4444444444444444,
              "#bd3786"
             ],
             [
              0.5555555555555556,
              "#d8576b"
             ],
             [
              0.6666666666666666,
              "#ed7953"
             ],
             [
              0.7777777777777778,
              "#fb9f3a"
             ],
             [
              0.8888888888888888,
              "#fdca26"
             ],
             [
              1,
              "#f0f921"
             ]
            ],
            "type": "heatmap"
           }
          ],
          "heatmapgl": [
           {
            "colorbar": {
             "outlinewidth": 0,
             "ticks": ""
            },
            "colorscale": [
             [
              0,
              "#0d0887"
             ],
             [
              0.1111111111111111,
              "#46039f"
             ],
             [
              0.2222222222222222,
              "#7201a8"
             ],
             [
              0.3333333333333333,
              "#9c179e"
             ],
             [
              0.4444444444444444,
              "#bd3786"
             ],
             [
              0.5555555555555556,
              "#d8576b"
             ],
             [
              0.6666666666666666,
              "#ed7953"
             ],
             [
              0.7777777777777778,
              "#fb9f3a"
             ],
             [
              0.8888888888888888,
              "#fdca26"
             ],
             [
              1,
              "#f0f921"
             ]
            ],
            "type": "heatmapgl"
           }
          ],
          "histogram": [
           {
            "marker": {
             "pattern": {
              "fillmode": "overlay",
              "size": 10,
              "solidity": 0.2
             }
            },
            "type": "histogram"
           }
          ],
          "histogram2d": [
           {
            "colorbar": {
             "outlinewidth": 0,
             "ticks": ""
            },
            "colorscale": [
             [
              0,
              "#0d0887"
             ],
             [
              0.1111111111111111,
              "#46039f"
             ],
             [
              0.2222222222222222,
              "#7201a8"
             ],
             [
              0.3333333333333333,
              "#9c179e"
             ],
             [
              0.4444444444444444,
              "#bd3786"
             ],
             [
              0.5555555555555556,
              "#d8576b"
             ],
             [
              0.6666666666666666,
              "#ed7953"
             ],
             [
              0.7777777777777778,
              "#fb9f3a"
             ],
             [
              0.8888888888888888,
              "#fdca26"
             ],
             [
              1,
              "#f0f921"
             ]
            ],
            "type": "histogram2d"
           }
          ],
          "histogram2dcontour": [
           {
            "colorbar": {
             "outlinewidth": 0,
             "ticks": ""
            },
            "colorscale": [
             [
              0,
              "#0d0887"
             ],
             [
              0.1111111111111111,
              "#46039f"
             ],
             [
              0.2222222222222222,
              "#7201a8"
             ],
             [
              0.3333333333333333,
              "#9c179e"
             ],
             [
              0.4444444444444444,
              "#bd3786"
             ],
             [
              0.5555555555555556,
              "#d8576b"
             ],
             [
              0.6666666666666666,
              "#ed7953"
             ],
             [
              0.7777777777777778,
              "#fb9f3a"
             ],
             [
              0.8888888888888888,
              "#fdca26"
             ],
             [
              1,
              "#f0f921"
             ]
            ],
            "type": "histogram2dcontour"
           }
          ],
          "mesh3d": [
           {
            "colorbar": {
             "outlinewidth": 0,
             "ticks": ""
            },
            "type": "mesh3d"
           }
          ],
          "parcoords": [
           {
            "line": {
             "colorbar": {
              "outlinewidth": 0,
              "ticks": ""
             }
            },
            "type": "parcoords"
           }
          ],
          "pie": [
           {
            "automargin": true,
            "type": "pie"
           }
          ],
          "scatter": [
           {
            "marker": {
             "colorbar": {
              "outlinewidth": 0,
              "ticks": ""
             }
            },
            "type": "scatter"
           }
          ],
          "scatter3d": [
           {
            "line": {
             "colorbar": {
              "outlinewidth": 0,
              "ticks": ""
             }
            },
            "marker": {
             "colorbar": {
              "outlinewidth": 0,
              "ticks": ""
             }
            },
            "type": "scatter3d"
           }
          ],
          "scattercarpet": [
           {
            "marker": {
             "colorbar": {
              "outlinewidth": 0,
              "ticks": ""
             }
            },
            "type": "scattercarpet"
           }
          ],
          "scattergeo": [
           {
            "marker": {
             "colorbar": {
              "outlinewidth": 0,
              "ticks": ""
             }
            },
            "type": "scattergeo"
           }
          ],
          "scattergl": [
           {
            "marker": {
             "colorbar": {
              "outlinewidth": 0,
              "ticks": ""
             }
            },
            "type": "scattergl"
           }
          ],
          "scattermapbox": [
           {
            "marker": {
             "colorbar": {
              "outlinewidth": 0,
              "ticks": ""
             }
            },
            "type": "scattermapbox"
           }
          ],
          "scatterpolar": [
           {
            "marker": {
             "colorbar": {
              "outlinewidth": 0,
              "ticks": ""
             }
            },
            "type": "scatterpolar"
           }
          ],
          "scatterpolargl": [
           {
            "marker": {
             "colorbar": {
              "outlinewidth": 0,
              "ticks": ""
             }
            },
            "type": "scatterpolargl"
           }
          ],
          "scatterternary": [
           {
            "marker": {
             "colorbar": {
              "outlinewidth": 0,
              "ticks": ""
             }
            },
            "type": "scatterternary"
           }
          ],
          "surface": [
           {
            "colorbar": {
             "outlinewidth": 0,
             "ticks": ""
            },
            "colorscale": [
             [
              0,
              "#0d0887"
             ],
             [
              0.1111111111111111,
              "#46039f"
             ],
             [
              0.2222222222222222,
              "#7201a8"
             ],
             [
              0.3333333333333333,
              "#9c179e"
             ],
             [
              0.4444444444444444,
              "#bd3786"
             ],
             [
              0.5555555555555556,
              "#d8576b"
             ],
             [
              0.6666666666666666,
              "#ed7953"
             ],
             [
              0.7777777777777778,
              "#fb9f3a"
             ],
             [
              0.8888888888888888,
              "#fdca26"
             ],
             [
              1,
              "#f0f921"
             ]
            ],
            "type": "surface"
           }
          ],
          "table": [
           {
            "cells": {
             "fill": {
              "color": "#EBF0F8"
             },
             "line": {
              "color": "white"
             }
            },
            "header": {
             "fill": {
              "color": "#C8D4E3"
             },
             "line": {
              "color": "white"
             }
            },
            "type": "table"
           }
          ]
         },
         "layout": {
          "annotationdefaults": {
           "arrowcolor": "#2a3f5f",
           "arrowhead": 0,
           "arrowwidth": 1
          },
          "autotypenumbers": "strict",
          "coloraxis": {
           "colorbar": {
            "outlinewidth": 0,
            "ticks": ""
           }
          },
          "colorscale": {
           "diverging": [
            [
             0,
             "#8e0152"
            ],
            [
             0.1,
             "#c51b7d"
            ],
            [
             0.2,
             "#de77ae"
            ],
            [
             0.3,
             "#f1b6da"
            ],
            [
             0.4,
             "#fde0ef"
            ],
            [
             0.5,
             "#f7f7f7"
            ],
            [
             0.6,
             "#e6f5d0"
            ],
            [
             0.7,
             "#b8e186"
            ],
            [
             0.8,
             "#7fbc41"
            ],
            [
             0.9,
             "#4d9221"
            ],
            [
             1,
             "#276419"
            ]
           ],
           "sequential": [
            [
             0,
             "#0d0887"
            ],
            [
             0.1111111111111111,
             "#46039f"
            ],
            [
             0.2222222222222222,
             "#7201a8"
            ],
            [
             0.3333333333333333,
             "#9c179e"
            ],
            [
             0.4444444444444444,
             "#bd3786"
            ],
            [
             0.5555555555555556,
             "#d8576b"
            ],
            [
             0.6666666666666666,
             "#ed7953"
            ],
            [
             0.7777777777777778,
             "#fb9f3a"
            ],
            [
             0.8888888888888888,
             "#fdca26"
            ],
            [
             1,
             "#f0f921"
            ]
           ],
           "sequentialminus": [
            [
             0,
             "#0d0887"
            ],
            [
             0.1111111111111111,
             "#46039f"
            ],
            [
             0.2222222222222222,
             "#7201a8"
            ],
            [
             0.3333333333333333,
             "#9c179e"
            ],
            [
             0.4444444444444444,
             "#bd3786"
            ],
            [
             0.5555555555555556,
             "#d8576b"
            ],
            [
             0.6666666666666666,
             "#ed7953"
            ],
            [
             0.7777777777777778,
             "#fb9f3a"
            ],
            [
             0.8888888888888888,
             "#fdca26"
            ],
            [
             1,
             "#f0f921"
            ]
           ]
          },
          "colorway": [
           "#636efa",
           "#EF553B",
           "#00cc96",
           "#ab63fa",
           "#FFA15A",
           "#19d3f3",
           "#FF6692",
           "#B6E880",
           "#FF97FF",
           "#FECB52"
          ],
          "font": {
           "color": "#2a3f5f"
          },
          "geo": {
           "bgcolor": "white",
           "lakecolor": "white",
           "landcolor": "#E5ECF6",
           "showlakes": true,
           "showland": true,
           "subunitcolor": "white"
          },
          "hoverlabel": {
           "align": "left"
          },
          "hovermode": "closest",
          "mapbox": {
           "style": "light"
          },
          "paper_bgcolor": "white",
          "plot_bgcolor": "#E5ECF6",
          "polar": {
           "angularaxis": {
            "gridcolor": "white",
            "linecolor": "white",
            "ticks": ""
           },
           "bgcolor": "#E5ECF6",
           "radialaxis": {
            "gridcolor": "white",
            "linecolor": "white",
            "ticks": ""
           }
          },
          "scene": {
           "xaxis": {
            "backgroundcolor": "#E5ECF6",
            "gridcolor": "white",
            "gridwidth": 2,
            "linecolor": "white",
            "showbackground": true,
            "ticks": "",
            "zerolinecolor": "white"
           },
           "yaxis": {
            "backgroundcolor": "#E5ECF6",
            "gridcolor": "white",
            "gridwidth": 2,
            "linecolor": "white",
            "showbackground": true,
            "ticks": "",
            "zerolinecolor": "white"
           },
           "zaxis": {
            "backgroundcolor": "#E5ECF6",
            "gridcolor": "white",
            "gridwidth": 2,
            "linecolor": "white",
            "showbackground": true,
            "ticks": "",
            "zerolinecolor": "white"
           }
          },
          "shapedefaults": {
           "line": {
            "color": "#2a3f5f"
           }
          },
          "ternary": {
           "aaxis": {
            "gridcolor": "white",
            "linecolor": "white",
            "ticks": ""
           },
           "baxis": {
            "gridcolor": "white",
            "linecolor": "white",
            "ticks": ""
           },
           "bgcolor": "#E5ECF6",
           "caxis": {
            "gridcolor": "white",
            "linecolor": "white",
            "ticks": ""
           }
          },
          "title": {
           "x": 0.05
          },
          "xaxis": {
           "automargin": true,
           "gridcolor": "white",
           "linecolor": "white",
           "ticks": "",
           "title": {
            "standoff": 15
           },
           "zerolinecolor": "white",
           "zerolinewidth": 2
          },
          "yaxis": {
           "automargin": true,
           "gridcolor": "white",
           "linecolor": "white",
           "ticks": "",
           "title": {
            "standoff": 15
           },
           "zerolinecolor": "white",
           "zerolinewidth": 2
          }
         }
        },
        "xaxis": {
         "anchor": "y",
         "domain": [
          0,
          1
         ],
         "title": {
          "text": "distance_from_store"
         }
        },
        "yaxis": {
         "anchor": "x",
         "domain": [
          0,
          1
         ],
         "title": {
          "text": "count"
         }
        }
       }
      },
      "text/html": [
       "<div>                            <div id=\"be76449d-abb6-4a56-85cf-974bb58a83f6\" class=\"plotly-graph-div\" style=\"height:525px; width:100%;\"></div>            <script type=\"text/javascript\">                require([\"plotly\"], function(Plotly) {                    window.PLOTLYENV=window.PLOTLYENV || {};                                    if (document.getElementById(\"be76449d-abb6-4a56-85cf-974bb58a83f6\")) {                    Plotly.newPlot(                        \"be76449d-abb6-4a56-85cf-974bb58a83f6\",                        [{\"alignmentgroup\":\"True\",\"bingroup\":\"x\",\"hovertemplate\":\"distance_from_store=%{x}<br>count=%{y}<extra></extra>\",\"legendgroup\":\"\",\"marker\":{\"color\":\"#636efa\",\"pattern\":{\"shape\":\"\"}},\"name\":\"\",\"nbinsx\":30,\"offsetgroup\":\"\",\"orientation\":\"v\",\"showlegend\":false,\"x\":[3.38,4.76,4.45,0.91,3.02,1.02,4.78,3.49,14.91,0.02,0.25,2.74,4.74,2.02,3.18,0.22,0.05,1.17,4.84,1.74,4.38,1.59,2.04,1.41,4.47,4.97,1.1,3.83,2.57,0.87,2.94,3.97,2.76,2.38,3.79,44.37,2.46,0.86,3.8,2.36,4.5,2.52,4.93,1.12,3.39,0.75,0.62,2.88,4.75,2.41,3.49,0.87,3.2,1.32,3.41,3.8,2.07,0.41,2.18,2.52,3.07,2.76,0.92,2.9,0.8,0.74,1.82,3.71,3.68,3.54,2.28,0.07,1.33,3.38,1.59,3.35,1.51,1.52,0.32,3.99,2.81,0.79,2.31,1.37,2.44,0.85,2.6,0.32,1.44,0.15,3.07,2.84,0.0,2.18,3.89,0.8,0.02,0.73,3.41,0.95,3.0,1.87,2.6,0.87,3.71,0.3,1.96,2.91,2.92,1.49,2.88,3.92,3.25,3.3,1.89,0.43,2.78,1.53,0.56,2.09,0.56,1.66,3.54,0.1,1.57,1.51,0.83,1.31,2.32,2.23,1.2,0.0,0.41,1.23,2.04,2.56,3.0,0.11,3.44,0.17,1.8,3.77,2.16,1.35,2.06,1.57,1.34,0.25,2.17,3.09,2.52,3.85,2.67,1.7,0.95,2.65,1.85,0.3,1.72,3.74,2.73,2.3,2.32,1.11,1.84,0.34,3.58,2.46,3.76,null,2.75,3.25,2.26,2.42,2.0,1.26,2.73,2.87,0.31,0.28,2.17,3.48,2.34,2.35,2.07,2.49,3.54,3.55,0.36,0.78,3.64,1.62,2.84,0.21,3.3,3.09,3.27,113.89,1.14,1.13,0.63,0.28,2.49,0.37,1.54,4.62,4.53,0.14,0.11,4.18,4.43,4.42,2.69,3.46,0.67,0.07,4.04,4.24,1.34,3.91,4.49,3.85,1.77,3.77,1.74,3.42,1.85,0.01,2.92,1.1,3.92,1.08,2.95,4.77,0.18,1.01,0.31,3.84,1.63,2.62,0.72,1.8,0.97,4.71,3.04,2.66,4.52,0.12,0.56,2.06,1.26,3.81,1.19,2.84,2.09,1.04,0.92,0.14,0.07,0.76,2.73,1.85,1.88,0.28,0.95,2.87,3.51,1.27,3.45,0.81,1.59,1.34,0.06,2.72,3.68,0.07,0.87,1.5,2.74,1.93,0.94,2.72,1.8,1.17,3.19,2.54,1.19,2.08,1.98,2.13,2.69,2.67,3.42,2.78,2.48,0.57,2.87,1.88,2.6,0.46,0.57,0.37,2.51,3.47,1.26,2.24,1.12,3.12,3.36,1.38,2.76,3.48,2.89,2.63,null,3.99,3.49,2.2,2.47,3.9,3.53,3.66,3.92,2.02,2.62,3.23,0.17,2.22,1.17,1.93,0.4,2.34,0.54,0.58,2.83,3.96,1.99,2.58,1.81,1.89,3.3,0.23,3.35,3.25,2.34,0.09,3.12,2.27,2.4,1.15,0.04,0.05,1.39,0.41,2.8,0.14,1.06,1.08,0.71,0.39,0.48,3.11,1.39,3.49,3.39,0.92,3.7,1.48,2.53,2.85,1.44,2.61,3.44,2.19,2.82,1.06,2.27,0.4,1.35,0.35,1.32,3.92,1.36,3.37,3.78,3.37,2.3,0.52,1.66,0.21,2.7,2.4,3.51,0.85,3.29,2.65,1.22,2.05,3.15,0.5,0.75,0.7,0.82,0.99,0.06,0.59,0.68,0.77,0.23,0.46,0.86,0.79,0.93,0.08,0.37,0.27,0.91,0.2,0.99,0.38,0.81,0.66,0.1,0.81,0.81,0.38,0.71,0.54,0.51,0.5,0.9,0.48,0.9,0.13,0.98,0.71,0.91,0.06,0.79,0.18,0.28,0.96,0.54,0.17,0.57,0.82,0.43,0.5,0.99,0.46,0.43,0.53,0.07,0.89,0.39,0.28,0.16,0.39,0.0,0.18,0.77,0.62,0.09,0.23,0.63,0.12,null,0.48,0.75,0.49,0.59,0.97,0.56,0.41,0.13,0.2,0.5,0.5,0.31,0.41,1.0,0.54,0.22,0.44,0.59,0.87,0.17,0.53,0.04,0.39,1.0,0.16,0.48,0.22,0.53,0.73,0.65,0.03,0.65,0.78,1.97,1.35,0.44,0.99,1.22,1.36,0.31,1.43,1.0,1.81,1.69,0.91,1.1,0.23,0.06,1.92,1.22,0.32,1.95,1.94,0.33,0.19,1.12,0.94,0.72,1.09,0.64,0.68,0.07,0.76,0.45,0.76,1.96,0.16,1.16,1.1,0.13,1.97,1.22,1.84,0.48,1.93,0.26,0.99,1.49,0.25,1.84,1.03,0.12,1.51,0.4,1.67,0.54,1.87,1.63,0.05,1.2,0.27,1.5,1.96,1.81,1.78,0.04,1.85,1.09,0.97,1.58,1.26,1.5,1.31,1.93,0.2,0.68,1.93,0.37,0.24,null,0.44,1.6,0.51,0.72,1.59,1.04,0.59,0.95,0.24,0.53,0.41,1.53,0.18,0.61,0.5,0.19,1.36,1.48,0.47,1.53,1.4,1.54,1.18,2.53,3.2,0.83,2.05,0.88,0.88,3.77,1.2,2.74,1.58,4.55,0.95,2.49,18.09,2.78,1.08,4.38,2.68,1.13,1.66,1.1,2.58,4.99,4.58,3.91,1.64,1.07,2.17,3.19,3.36,3.9,1.0,2.35,0.09,0.65,2.08,2.33,2.82,4.85,4.63,1.12,1.61,2.62,3.57,2.36,4.06,3.6,1.4,2.41,0.9,4.66,1.71,4.01,4.8,2.74,4.66,3.23,3.89,4.02,2.69,0.07,0.37,0.66,4.19,3.1,3.31,3.78,0.7,0.11,2.03,4.08,1.34,4.34,1.25,0.89,4.05,0.36,0.27,3.55,3.59,0.67,0.01,4.28,1.06,2.83,3.06,2.24,1.64,2.53,1.13,2.58,4.13,4.53,3.69,1.53,2.86,0.07,1.48,1.04,3.63,4.16,2.06,2.41,0.72,1.94,3.12,3.5,0.9,4.17,3.56,0.81,0.64,1.44,1.32,1.64,0.2,4.12,0.73,4.5,1.84,2.9,0.75,8.48,3.03,2.4,1.42,1.33,4.26,2.66,1.06,7.84,4.17,0.83,2.98,2.26,3.95,1.77,3.7,2.53,0.37,4.38,0.64,4.0,4.78,1.29,3.97,3.97,2.15,2.43,2.24,1.38,1.96,3.53,1.96,1.35,0.87,0.98,1.36,3.56,0.05,0.39,2.11,1.04,4.04,2.28,3.16,2.57,3.19,1.83,4.74,3.77,6.28,3.83,6.59,0.87,6.51,2.91,3.21,6.12,5.85,3.65,0.51,2.49,3.66,0.71,6.33,0.57,5.38,5.88,3.43,2.5,1.46,7.93,6.41,3.73,2.68,0.93,1.34,0.22,1.65,6.28,1.71,5.95,3.73,4.22,1.13,3.81,1.94,2.46,1.51,1.83,1.69,3.22,1.88,0.23,3.36,4.64,0.88,1.12,0.12,1.17,1.6,0.74,2.6,1.08,0.61,0.97,3.9,1.69,0.03,4.44,1.76,3.41,0.19,3.18,null,1.5,2.93,0.66,2.07,4.23,4.65,3.56,0.78,0.33,2.35,4.55,1.79,0.45,2.59,400.97,0.32,2.14,1.62,4.36,4.38,2.36,1.87,0.21,0.07],\"xaxis\":\"x\",\"yaxis\":\"y\",\"type\":\"histogram\"}],                        {\"template\":{\"data\":{\"bar\":[{\"error_x\":{\"color\":\"#2a3f5f\"},\"error_y\":{\"color\":\"#2a3f5f\"},\"marker\":{\"line\":{\"color\":\"#E5ECF6\",\"width\":0.5},\"pattern\":{\"fillmode\":\"overlay\",\"size\":10,\"solidity\":0.2}},\"type\":\"bar\"}],\"barpolar\":[{\"marker\":{\"line\":{\"color\":\"#E5ECF6\",\"width\":0.5},\"pattern\":{\"fillmode\":\"overlay\",\"size\":10,\"solidity\":0.2}},\"type\":\"barpolar\"}],\"carpet\":[{\"aaxis\":{\"endlinecolor\":\"#2a3f5f\",\"gridcolor\":\"white\",\"linecolor\":\"white\",\"minorgridcolor\":\"white\",\"startlinecolor\":\"#2a3f5f\"},\"baxis\":{\"endlinecolor\":\"#2a3f5f\",\"gridcolor\":\"white\",\"linecolor\":\"white\",\"minorgridcolor\":\"white\",\"startlinecolor\":\"#2a3f5f\"},\"type\":\"carpet\"}],\"choropleth\":[{\"colorbar\":{\"outlinewidth\":0,\"ticks\":\"\"},\"type\":\"choropleth\"}],\"contour\":[{\"colorbar\":{\"outlinewidth\":0,\"ticks\":\"\"},\"colorscale\":[[0.0,\"#0d0887\"],[0.1111111111111111,\"#46039f\"],[0.2222222222222222,\"#7201a8\"],[0.3333333333333333,\"#9c179e\"],[0.4444444444444444,\"#bd3786\"],[0.5555555555555556,\"#d8576b\"],[0.6666666666666666,\"#ed7953\"],[0.7777777777777778,\"#fb9f3a\"],[0.8888888888888888,\"#fdca26\"],[1.0,\"#f0f921\"]],\"type\":\"contour\"}],\"contourcarpet\":[{\"colorbar\":{\"outlinewidth\":0,\"ticks\":\"\"},\"type\":\"contourcarpet\"}],\"heatmap\":[{\"colorbar\":{\"outlinewidth\":0,\"ticks\":\"\"},\"colorscale\":[[0.0,\"#0d0887\"],[0.1111111111111111,\"#46039f\"],[0.2222222222222222,\"#7201a8\"],[0.3333333333333333,\"#9c179e\"],[0.4444444444444444,\"#bd3786\"],[0.5555555555555556,\"#d8576b\"],[0.6666666666666666,\"#ed7953\"],[0.7777777777777778,\"#fb9f3a\"],[0.8888888888888888,\"#fdca26\"],[1.0,\"#f0f921\"]],\"type\":\"heatmap\"}],\"heatmapgl\":[{\"colorbar\":{\"outlinewidth\":0,\"ticks\":\"\"},\"colorscale\":[[0.0,\"#0d0887\"],[0.1111111111111111,\"#46039f\"],[0.2222222222222222,\"#7201a8\"],[0.3333333333333333,\"#9c179e\"],[0.4444444444444444,\"#bd3786\"],[0.5555555555555556,\"#d8576b\"],[0.6666666666666666,\"#ed7953\"],[0.7777777777777778,\"#fb9f3a\"],[0.8888888888888888,\"#fdca26\"],[1.0,\"#f0f921\"]],\"type\":\"heatmapgl\"}],\"histogram\":[{\"marker\":{\"pattern\":{\"fillmode\":\"overlay\",\"size\":10,\"solidity\":0.2}},\"type\":\"histogram\"}],\"histogram2d\":[{\"colorbar\":{\"outlinewidth\":0,\"ticks\":\"\"},\"colorscale\":[[0.0,\"#0d0887\"],[0.1111111111111111,\"#46039f\"],[0.2222222222222222,\"#7201a8\"],[0.3333333333333333,\"#9c179e\"],[0.4444444444444444,\"#bd3786\"],[0.5555555555555556,\"#d8576b\"],[0.6666666666666666,\"#ed7953\"],[0.7777777777777778,\"#fb9f3a\"],[0.8888888888888888,\"#fdca26\"],[1.0,\"#f0f921\"]],\"type\":\"histogram2d\"}],\"histogram2dcontour\":[{\"colorbar\":{\"outlinewidth\":0,\"ticks\":\"\"},\"colorscale\":[[0.0,\"#0d0887\"],[0.1111111111111111,\"#46039f\"],[0.2222222222222222,\"#7201a8\"],[0.3333333333333333,\"#9c179e\"],[0.4444444444444444,\"#bd3786\"],[0.5555555555555556,\"#d8576b\"],[0.6666666666666666,\"#ed7953\"],[0.7777777777777778,\"#fb9f3a\"],[0.8888888888888888,\"#fdca26\"],[1.0,\"#f0f921\"]],\"type\":\"histogram2dcontour\"}],\"mesh3d\":[{\"colorbar\":{\"outlinewidth\":0,\"ticks\":\"\"},\"type\":\"mesh3d\"}],\"parcoords\":[{\"line\":{\"colorbar\":{\"outlinewidth\":0,\"ticks\":\"\"}},\"type\":\"parcoords\"}],\"pie\":[{\"automargin\":true,\"type\":\"pie\"}],\"scatter\":[{\"marker\":{\"colorbar\":{\"outlinewidth\":0,\"ticks\":\"\"}},\"type\":\"scatter\"}],\"scatter3d\":[{\"line\":{\"colorbar\":{\"outlinewidth\":0,\"ticks\":\"\"}},\"marker\":{\"colorbar\":{\"outlinewidth\":0,\"ticks\":\"\"}},\"type\":\"scatter3d\"}],\"scattercarpet\":[{\"marker\":{\"colorbar\":{\"outlinewidth\":0,\"ticks\":\"\"}},\"type\":\"scattercarpet\"}],\"scattergeo\":[{\"marker\":{\"colorbar\":{\"outlinewidth\":0,\"ticks\":\"\"}},\"type\":\"scattergeo\"}],\"scattergl\":[{\"marker\":{\"colorbar\":{\"outlinewidth\":0,\"ticks\":\"\"}},\"type\":\"scattergl\"}],\"scattermapbox\":[{\"marker\":{\"colorbar\":{\"outlinewidth\":0,\"ticks\":\"\"}},\"type\":\"scattermapbox\"}],\"scatterpolar\":[{\"marker\":{\"colorbar\":{\"outlinewidth\":0,\"ticks\":\"\"}},\"type\":\"scatterpolar\"}],\"scatterpolargl\":[{\"marker\":{\"colorbar\":{\"outlinewidth\":0,\"ticks\":\"\"}},\"type\":\"scatterpolargl\"}],\"scatterternary\":[{\"marker\":{\"colorbar\":{\"outlinewidth\":0,\"ticks\":\"\"}},\"type\":\"scatterternary\"}],\"surface\":[{\"colorbar\":{\"outlinewidth\":0,\"ticks\":\"\"},\"colorscale\":[[0.0,\"#0d0887\"],[0.1111111111111111,\"#46039f\"],[0.2222222222222222,\"#7201a8\"],[0.3333333333333333,\"#9c179e\"],[0.4444444444444444,\"#bd3786\"],[0.5555555555555556,\"#d8576b\"],[0.6666666666666666,\"#ed7953\"],[0.7777777777777778,\"#fb9f3a\"],[0.8888888888888888,\"#fdca26\"],[1.0,\"#f0f921\"]],\"type\":\"surface\"}],\"table\":[{\"cells\":{\"fill\":{\"color\":\"#EBF0F8\"},\"line\":{\"color\":\"white\"}},\"header\":{\"fill\":{\"color\":\"#C8D4E3\"},\"line\":{\"color\":\"white\"}},\"type\":\"table\"}]},\"layout\":{\"annotationdefaults\":{\"arrowcolor\":\"#2a3f5f\",\"arrowhead\":0,\"arrowwidth\":1},\"autotypenumbers\":\"strict\",\"coloraxis\":{\"colorbar\":{\"outlinewidth\":0,\"ticks\":\"\"}},\"colorscale\":{\"diverging\":[[0,\"#8e0152\"],[0.1,\"#c51b7d\"],[0.2,\"#de77ae\"],[0.3,\"#f1b6da\"],[0.4,\"#fde0ef\"],[0.5,\"#f7f7f7\"],[0.6,\"#e6f5d0\"],[0.7,\"#b8e186\"],[0.8,\"#7fbc41\"],[0.9,\"#4d9221\"],[1,\"#276419\"]],\"sequential\":[[0.0,\"#0d0887\"],[0.1111111111111111,\"#46039f\"],[0.2222222222222222,\"#7201a8\"],[0.3333333333333333,\"#9c179e\"],[0.4444444444444444,\"#bd3786\"],[0.5555555555555556,\"#d8576b\"],[0.6666666666666666,\"#ed7953\"],[0.7777777777777778,\"#fb9f3a\"],[0.8888888888888888,\"#fdca26\"],[1.0,\"#f0f921\"]],\"sequentialminus\":[[0.0,\"#0d0887\"],[0.1111111111111111,\"#46039f\"],[0.2222222222222222,\"#7201a8\"],[0.3333333333333333,\"#9c179e\"],[0.4444444444444444,\"#bd3786\"],[0.5555555555555556,\"#d8576b\"],[0.6666666666666666,\"#ed7953\"],[0.7777777777777778,\"#fb9f3a\"],[0.8888888888888888,\"#fdca26\"],[1.0,\"#f0f921\"]]},\"colorway\":[\"#636efa\",\"#EF553B\",\"#00cc96\",\"#ab63fa\",\"#FFA15A\",\"#19d3f3\",\"#FF6692\",\"#B6E880\",\"#FF97FF\",\"#FECB52\"],\"font\":{\"color\":\"#2a3f5f\"},\"geo\":{\"bgcolor\":\"white\",\"lakecolor\":\"white\",\"landcolor\":\"#E5ECF6\",\"showlakes\":true,\"showland\":true,\"subunitcolor\":\"white\"},\"hoverlabel\":{\"align\":\"left\"},\"hovermode\":\"closest\",\"mapbox\":{\"style\":\"light\"},\"paper_bgcolor\":\"white\",\"plot_bgcolor\":\"#E5ECF6\",\"polar\":{\"angularaxis\":{\"gridcolor\":\"white\",\"linecolor\":\"white\",\"ticks\":\"\"},\"bgcolor\":\"#E5ECF6\",\"radialaxis\":{\"gridcolor\":\"white\",\"linecolor\":\"white\",\"ticks\":\"\"}},\"scene\":{\"xaxis\":{\"backgroundcolor\":\"#E5ECF6\",\"gridcolor\":\"white\",\"gridwidth\":2,\"linecolor\":\"white\",\"showbackground\":true,\"ticks\":\"\",\"zerolinecolor\":\"white\"},\"yaxis\":{\"backgroundcolor\":\"#E5ECF6\",\"gridcolor\":\"white\",\"gridwidth\":2,\"linecolor\":\"white\",\"showbackground\":true,\"ticks\":\"\",\"zerolinecolor\":\"white\"},\"zaxis\":{\"backgroundcolor\":\"#E5ECF6\",\"gridcolor\":\"white\",\"gridwidth\":2,\"linecolor\":\"white\",\"showbackground\":true,\"ticks\":\"\",\"zerolinecolor\":\"white\"}},\"shapedefaults\":{\"line\":{\"color\":\"#2a3f5f\"}},\"ternary\":{\"aaxis\":{\"gridcolor\":\"white\",\"linecolor\":\"white\",\"ticks\":\"\"},\"baxis\":{\"gridcolor\":\"white\",\"linecolor\":\"white\",\"ticks\":\"\"},\"bgcolor\":\"#E5ECF6\",\"caxis\":{\"gridcolor\":\"white\",\"linecolor\":\"white\",\"ticks\":\"\"}},\"title\":{\"x\":0.05},\"xaxis\":{\"automargin\":true,\"gridcolor\":\"white\",\"linecolor\":\"white\",\"ticks\":\"\",\"title\":{\"standoff\":15},\"zerolinecolor\":\"white\",\"zerolinewidth\":2},\"yaxis\":{\"automargin\":true,\"gridcolor\":\"white\",\"linecolor\":\"white\",\"ticks\":\"\",\"title\":{\"standoff\":15},\"zerolinecolor\":\"white\",\"zerolinewidth\":2}}},\"xaxis\":{\"anchor\":\"y\",\"domain\":[0.0,1.0],\"title\":{\"text\":\"distance_from_store\"}},\"yaxis\":{\"anchor\":\"x\",\"domain\":[0.0,1.0],\"title\":{\"text\":\"count\"}},\"legend\":{\"tracegroupgap\":0},\"margin\":{\"t\":60},\"barmode\":\"relative\"},                        {\"responsive\": true}                    ).then(function(){\n",
       "                            \n",
       "var gd = document.getElementById('be76449d-abb6-4a56-85cf-974bb58a83f6');\n",
       "var x = new MutationObserver(function (mutations, observer) {{\n",
       "        var display = window.getComputedStyle(gd).display;\n",
       "        if (!display || display === 'none') {{\n",
       "            console.log([gd, 'removed!']);\n",
       "            Plotly.purge(gd);\n",
       "            observer.disconnect();\n",
       "        }}\n",
       "}});\n",
       "\n",
       "// Listen for the removal of the full notebook cells\n",
       "var notebookContainer = gd.closest('#notebook-container');\n",
       "if (notebookContainer) {{\n",
       "    x.observe(notebookContainer, {childList: true});\n",
       "}}\n",
       "\n",
       "// Listen for the clearing of the current output cell\n",
       "var outputEl = gd.closest('.output');\n",
       "if (outputEl) {{\n",
       "    x.observe(outputEl, {childList: true});\n",
       "}}\n",
       "\n",
       "                        })                };                });            </script>        </div>"
      ]
     },
     "metadata": {},
     "output_type": "display_data"
    }
   ],
   "source": [
    "fig = px.histogram(data, x = \"distance_from_store\", nbins = 30)\n",
    "fig.show()"
   ]
  },
  {
   "cell_type": "markdown",
   "id": "4dac3303",
   "metadata": {},
   "source": [
    "Zooming in on the \"Distance from store\" metric using plotly express (using its interactive feature), we not that most of the data lies in the 0-9 bin, with some very obvious outliers"
   ]
  },
  {
   "cell_type": "code",
   "execution_count": 86,
   "id": "fc0f31aa",
   "metadata": {},
   "outputs": [
    {
     "data": {
      "text/plain": [
       "Index(['signup_flag', 'distance_from_store', 'gender', 'credit_score',\n",
       "       'total_sales', 'total_items', 'transaction_count', 'product_area_count',\n",
       "       'average_basket_value'],\n",
       "      dtype='object')"
      ]
     },
     "execution_count": 86,
     "metadata": {},
     "output_type": "execute_result"
    }
   ],
   "source": [
    "data.columns"
   ]
  },
  {
   "cell_type": "code",
   "execution_count": 97,
   "id": "77c32261",
   "metadata": {},
   "outputs": [
    {
     "name": "stdout",
     "output_type": "stream",
     "text": [
      "8 outliers detected in column distance_from_store\n",
      "54 outliers detected in column total_sales\n",
      "41 outliers detected in column total_items\n",
      "19 outliers detected in column transaction_count\n",
      "34 outliers detected in column average_basket_value\n"
     ]
    }
   ],
   "source": [
    "\n",
    "#using 5 columns \n",
    "outlier_investigation = data.describe()\n",
    "outlier_columns = ['distance_from_store', 'total_sales', 'total_items', 'transaction_count','average_basket_value']\n",
    "\n",
    "for column in outlier_columns:\n",
    "    lower_quartile = data[column].quantile(0.25)\n",
    "    upper_quartile = data[column].quantile(0.75)\n",
    "    iqr = upper_quartile - lower_quartile\n",
    "    iqr_extended = iqr * 2\n",
    "    min_border = lower_quartile - iqr_extended\n",
    "    max_border = upper_quartile + iqr_extended\n",
    "    \n",
    "    outliers = data[(data[column] < min_border)|(data[column] > max_border)].index\n",
    "    print(f\"{len(outliers)} outliers detected in column {column}\")\n",
    "    \n",
    "    "
   ]
  },
  {
   "cell_type": "code",
   "execution_count": 98,
   "id": "487fca48",
   "metadata": {},
   "outputs": [],
   "source": [
    "data1 = data.drop(outliers)"
   ]
  },
  {
   "cell_type": "code",
   "execution_count": 99,
   "id": "157059b3",
   "metadata": {},
   "outputs": [
    {
     "data": {
      "text/plain": [
       "(813, 9)"
      ]
     },
     "execution_count": 99,
     "metadata": {},
     "output_type": "execute_result"
    }
   ],
   "source": [
    "data1.shape"
   ]
  },
  {
   "cell_type": "code",
   "execution_count": 100,
   "id": "06338505",
   "metadata": {},
   "outputs": [
    {
     "name": "stdout",
     "output_type": "stream",
     "text": [
      "8 outliers detected in column distance_from_store\n",
      "54 outliers detected in column total_sales\n",
      "41 outliers detected in column total_items\n"
     ]
    }
   ],
   "source": [
    "\n",
    "#using 3 columns \n",
    "outlier_investigation = data.describe()\n",
    "outlier_columns = ['distance_from_store', 'total_sales', 'total_items']\n",
    "\n",
    "for column in outlier_columns:\n",
    "    lower_quartile = data[column].quantile(0.25)\n",
    "    upper_quartile = data[column].quantile(0.75)\n",
    "    iqr = upper_quartile - lower_quartile\n",
    "    iqr_extended = iqr * 2\n",
    "    min_border = lower_quartile - iqr_extended\n",
    "    max_border = upper_quartile + iqr_extended\n",
    "    \n",
    "    outliers1 = data[(data[column] < min_border)|(data[column] > max_border)].index\n",
    "    print(f\"{len(outliers1)} outliers detected in column {column}\")"
   ]
  },
  {
   "cell_type": "code",
   "execution_count": 101,
   "id": "76b7f3e7",
   "metadata": {},
   "outputs": [],
   "source": [
    "data2 = data.drop(outliers1)"
   ]
  },
  {
   "cell_type": "code",
   "execution_count": 102,
   "id": "f196f98b",
   "metadata": {},
   "outputs": [
    {
     "data": {
      "text/plain": [
       "(806, 9)"
      ]
     },
     "execution_count": 102,
     "metadata": {},
     "output_type": "execute_result"
    }
   ],
   "source": [
    "data2.shape"
   ]
  },
  {
   "cell_type": "markdown",
   "id": "babf8a4e",
   "metadata": {},
   "source": [
    "### Split out data for modeling "
   ]
  },
  {
   "cell_type": "code",
   "execution_count": 104,
   "id": "a0ac5825",
   "metadata": {},
   "outputs": [],
   "source": [
    "X = data1.drop(\"signup_flag\", axis = 1)"
   ]
  },
  {
   "cell_type": "code",
   "execution_count": 107,
   "id": "7f18422b",
   "metadata": {},
   "outputs": [],
   "source": [
    "y = data1.signup_flag"
   ]
  },
  {
   "cell_type": "code",
   "execution_count": 108,
   "id": "2eacaa41",
   "metadata": {},
   "outputs": [],
   "source": [
    "X_train, X_test, y_train, y_test = train_test_split(X, y, test_size = 0.2, random_state = 23, stratify = y)"
   ]
  },
  {
   "cell_type": "code",
   "execution_count": 110,
   "id": "caaf33e9",
   "metadata": {},
   "outputs": [
    {
     "name": "stdout",
     "output_type": "stream",
     "text": [
      "<class 'pandas.core.frame.DataFrame'>\n",
      "Int64Index: 813 entries, 155 to 604\n",
      "Data columns (total 8 columns):\n",
      " #   Column                Non-Null Count  Dtype  \n",
      "---  ------                --------------  -----  \n",
      " 0   distance_from_store   813 non-null    float64\n",
      " 1   gender                813 non-null    object \n",
      " 2   credit_score          813 non-null    float64\n",
      " 3   total_sales           813 non-null    float64\n",
      " 4   total_items           813 non-null    int64  \n",
      " 5   transaction_count     813 non-null    int64  \n",
      " 6   product_area_count    813 non-null    int64  \n",
      " 7   average_basket_value  813 non-null    float64\n",
      "dtypes: float64(4), int64(3), object(1)\n",
      "memory usage: 57.2+ KB\n"
     ]
    }
   ],
   "source": [
    "X.info()"
   ]
  },
  {
   "cell_type": "code",
   "execution_count": 115,
   "id": "6ba3c8a3",
   "metadata": {},
   "outputs": [
    {
     "data": {
      "text/plain": [
       "Index(['distance_from_store', 'gender', 'credit_score', 'total_sales',\n",
       "       'total_items', 'transaction_count', 'product_area_count',\n",
       "       'average_basket_value'],\n",
       "      dtype='object')"
      ]
     },
     "execution_count": 115,
     "metadata": {},
     "output_type": "execute_result"
    }
   ],
   "source": [
    "X.columns"
   ]
  },
  {
   "cell_type": "code",
   "execution_count": 136,
   "id": "9f738dee",
   "metadata": {},
   "outputs": [],
   "source": [
    "mapper = DataFrameMapper([\n",
    "    (['distance_from_store'], StandardScaler()), \n",
    "      ('gender', LabelBinarizer()), \n",
    "      (['credit_score'], StandardScaler()),\n",
    "      (['total_sales'],StandardScaler()),\n",
    "       (['total_items'], StandardScaler()),\n",
    "      (['transaction_count'],StandardScaler()), \n",
    "      (['product_area_count'],StandardScaler()), \n",
    "       (['average_basket_value'], StandardScaler())], df_out = True)"
   ]
  },
  {
   "cell_type": "code",
   "execution_count": 137,
   "id": "0019814d",
   "metadata": {
    "scrolled": false
   },
   "outputs": [
    {
     "data": {
      "text/plain": [
       "DataFrameMapper(df_out=True, drop_cols=[],\n",
       "                features=[(['distance_from_store'], StandardScaler()),\n",
       "                          ('gender', LabelBinarizer()),\n",
       "                          (['credit_score'], StandardScaler()),\n",
       "                          (['total_sales'], StandardScaler()),\n",
       "                          (['total_items'], StandardScaler()),\n",
       "                          (['transaction_count'], StandardScaler()),\n",
       "                          (['product_area_count'], StandardScaler()),\n",
       "                          (['average_basket_value'], StandardScaler())])"
      ]
     },
     "execution_count": 137,
     "metadata": {},
     "output_type": "execute_result"
    }
   ],
   "source": [
    "mapper.fit(X_train)"
   ]
  },
  {
   "cell_type": "code",
   "execution_count": 138,
   "id": "a83528a6",
   "metadata": {},
   "outputs": [],
   "source": [
    "Z_train = mapper.transform(X_train)\n",
    "Z_test = mapper.transform(X_test)"
   ]
  },
  {
   "cell_type": "code",
   "execution_count": 139,
   "id": "5a8b5ccb",
   "metadata": {},
   "outputs": [
    {
     "data": {
      "text/html": [
       "<div>\n",
       "<style scoped>\n",
       "    .dataframe tbody tr th:only-of-type {\n",
       "        vertical-align: middle;\n",
       "    }\n",
       "\n",
       "    .dataframe tbody tr th {\n",
       "        vertical-align: top;\n",
       "    }\n",
       "\n",
       "    .dataframe thead th {\n",
       "        text-align: right;\n",
       "    }\n",
       "</style>\n",
       "<table border=\"1\" class=\"dataframe\">\n",
       "  <thead>\n",
       "    <tr style=\"text-align: right;\">\n",
       "      <th></th>\n",
       "      <th>distance_from_store</th>\n",
       "      <th>gender</th>\n",
       "      <th>credit_score</th>\n",
       "      <th>total_sales</th>\n",
       "      <th>total_items</th>\n",
       "      <th>transaction_count</th>\n",
       "      <th>product_area_count</th>\n",
       "      <th>average_basket_value</th>\n",
       "    </tr>\n",
       "  </thead>\n",
       "  <tbody>\n",
       "    <tr>\n",
       "      <th>719</th>\n",
       "      <td>-0.035459</td>\n",
       "      <td>1</td>\n",
       "      <td>0.791434</td>\n",
       "      <td>-0.840997</td>\n",
       "      <td>-0.864897</td>\n",
       "      <td>-1.251217</td>\n",
       "      <td>-0.120773</td>\n",
       "      <td>-0.447350</td>\n",
       "    </tr>\n",
       "    <tr>\n",
       "      <th>24</th>\n",
       "      <td>0.533928</td>\n",
       "      <td>0</td>\n",
       "      <td>1.380590</td>\n",
       "      <td>2.629317</td>\n",
       "      <td>2.048672</td>\n",
       "      <td>0.996996</td>\n",
       "      <td>0.940073</td>\n",
       "      <td>2.598879</td>\n",
       "    </tr>\n",
       "    <tr>\n",
       "      <th>129</th>\n",
       "      <td>0.048975</td>\n",
       "      <td>0</td>\n",
       "      <td>-0.485072</td>\n",
       "      <td>0.477084</td>\n",
       "      <td>0.642904</td>\n",
       "      <td>0.434943</td>\n",
       "      <td>-0.120773</td>\n",
       "      <td>0.504365</td>\n",
       "    </tr>\n",
       "    <tr>\n",
       "      <th>730</th>\n",
       "      <td>1.263522</td>\n",
       "      <td>0</td>\n",
       "      <td>0.693241</td>\n",
       "      <td>-0.722542</td>\n",
       "      <td>-0.638160</td>\n",
       "      <td>-1.157541</td>\n",
       "      <td>-0.120773</td>\n",
       "      <td>-0.105408</td>\n",
       "    </tr>\n",
       "    <tr>\n",
       "      <th>153</th>\n",
       "      <td>-0.065768</td>\n",
       "      <td>1</td>\n",
       "      <td>0.889626</td>\n",
       "      <td>0.147103</td>\n",
       "      <td>0.030714</td>\n",
       "      <td>-0.876515</td>\n",
       "      <td>-1.181619</td>\n",
       "      <td>2.191945</td>\n",
       "    </tr>\n",
       "    <tr>\n",
       "      <th>...</th>\n",
       "      <td>...</td>\n",
       "      <td>...</td>\n",
       "      <td>...</td>\n",
       "      <td>...</td>\n",
       "      <td>...</td>\n",
       "      <td>...</td>\n",
       "      <td>...</td>\n",
       "      <td>...</td>\n",
       "    </tr>\n",
       "    <tr>\n",
       "      <th>522</th>\n",
       "      <td>-0.191337</td>\n",
       "      <td>0</td>\n",
       "      <td>-1.074229</td>\n",
       "      <td>-0.614290</td>\n",
       "      <td>-0.116665</td>\n",
       "      <td>0.060241</td>\n",
       "      <td>0.940073</td>\n",
       "      <td>-0.938942</td>\n",
       "    </tr>\n",
       "    <tr>\n",
       "      <th>589</th>\n",
       "      <td>-0.394844</td>\n",
       "      <td>1</td>\n",
       "      <td>-3.332663</td>\n",
       "      <td>-0.240096</td>\n",
       "      <td>-0.230033</td>\n",
       "      <td>0.622294</td>\n",
       "      <td>0.940073</td>\n",
       "      <td>-0.626644</td>\n",
       "    </tr>\n",
       "    <tr>\n",
       "      <th>801</th>\n",
       "      <td>-0.063603</td>\n",
       "      <td>1</td>\n",
       "      <td>-0.092301</td>\n",
       "      <td>3.119957</td>\n",
       "      <td>3.805883</td>\n",
       "      <td>2.776831</td>\n",
       "      <td>0.940073</td>\n",
       "      <td>1.311279</td>\n",
       "    </tr>\n",
       "    <tr>\n",
       "      <th>173</th>\n",
       "      <td>0.090109</td>\n",
       "      <td>0</td>\n",
       "      <td>-1.172422</td>\n",
       "      <td>-0.314172</td>\n",
       "      <td>0.053388</td>\n",
       "      <td>-0.595488</td>\n",
       "      <td>-1.181619</td>\n",
       "      <td>0.229912</td>\n",
       "    </tr>\n",
       "    <tr>\n",
       "      <th>7</th>\n",
       "      <td>0.321761</td>\n",
       "      <td>0</td>\n",
       "      <td>-2.154349</td>\n",
       "      <td>0.415180</td>\n",
       "      <td>-0.230033</td>\n",
       "      <td>-0.220786</td>\n",
       "      <td>0.940073</td>\n",
       "      <td>1.241550</td>\n",
       "    </tr>\n",
       "  </tbody>\n",
       "</table>\n",
       "<p>650 rows × 8 columns</p>\n",
       "</div>"
      ],
      "text/plain": [
       "     distance_from_store  gender  credit_score  total_sales  total_items  \\\n",
       "719            -0.035459       1      0.791434    -0.840997    -0.864897   \n",
       "24              0.533928       0      1.380590     2.629317     2.048672   \n",
       "129             0.048975       0     -0.485072     0.477084     0.642904   \n",
       "730             1.263522       0      0.693241    -0.722542    -0.638160   \n",
       "153            -0.065768       1      0.889626     0.147103     0.030714   \n",
       "..                   ...     ...           ...          ...          ...   \n",
       "522            -0.191337       0     -1.074229    -0.614290    -0.116665   \n",
       "589            -0.394844       1     -3.332663    -0.240096    -0.230033   \n",
       "801            -0.063603       1     -0.092301     3.119957     3.805883   \n",
       "173             0.090109       0     -1.172422    -0.314172     0.053388   \n",
       "7               0.321761       0     -2.154349     0.415180    -0.230033   \n",
       "\n",
       "     transaction_count  product_area_count  average_basket_value  \n",
       "719          -1.251217           -0.120773             -0.447350  \n",
       "24            0.996996            0.940073              2.598879  \n",
       "129           0.434943           -0.120773              0.504365  \n",
       "730          -1.157541           -0.120773             -0.105408  \n",
       "153          -0.876515           -1.181619              2.191945  \n",
       "..                 ...                 ...                   ...  \n",
       "522           0.060241            0.940073             -0.938942  \n",
       "589           0.622294            0.940073             -0.626644  \n",
       "801           2.776831            0.940073              1.311279  \n",
       "173          -0.595488           -1.181619              0.229912  \n",
       "7            -0.220786            0.940073              1.241550  \n",
       "\n",
       "[650 rows x 8 columns]"
      ]
     },
     "execution_count": 139,
     "metadata": {},
     "output_type": "execute_result"
    }
   ],
   "source": [
    "Z_train"
   ]
  },
  {
   "cell_type": "code",
   "execution_count": 140,
   "id": "5e2e1006",
   "metadata": {},
   "outputs": [
    {
     "name": "stdout",
     "output_type": "stream",
     "text": [
      "Optimal no of features is 5\n"
     ]
    }
   ],
   "source": [
    "#RFECV\n",
    "\n",
    "clf = LogisticRegression(random_state = 43, max_iter = 1000)\n",
    "feature_selector = RFECV(clf)\n",
    "\n",
    "fit = feature_selector.fit(Z_train, y_train)\n",
    "\n",
    "optimal_feature_count = feature_selector.n_features_\n",
    "print(f\"Optimal no of features is {optimal_feature_count}\")"
   ]
  },
  {
   "cell_type": "code",
   "execution_count": 141,
   "id": "118715e2",
   "metadata": {},
   "outputs": [
    {
     "data": {
      "text/plain": [
       "array([ True,  True, False, False, False,  True,  True,  True])"
      ]
     },
     "execution_count": 141,
     "metadata": {},
     "output_type": "execute_result"
    }
   ],
   "source": [
    "feature_selector.get_support()"
   ]
  },
  {
   "cell_type": "code",
   "execution_count": 142,
   "id": "1a620818",
   "metadata": {},
   "outputs": [],
   "source": [
    "#limit train and test data to only include selected variables \n",
    "Z_train = Z_train.loc[:, feature_selector.get_support()]\n",
    "Z_test = Z_test.loc[:, feature_selector.get_support()]"
   ]
  },
  {
   "cell_type": "code",
   "execution_count": 145,
   "id": "8ec294d8",
   "metadata": {},
   "outputs": [
    {
     "data": {
      "image/png": "[encoded data removed]",
      "text/plain": [
       "<Figure size 921.6x633.6 with 1 Axes>"
      ]
     },
     "metadata": {
      "needs_background": "light"
     },
     "output_type": "display_data"
    }
   ],
   "source": [
    "plt.style.use('seaborn-poster')\n",
    "plt.plot(range(1, len(fit.cv_results_['mean_test_score']) + 1), fit.cv_results_['mean_test_score'], marker = \"o\")\n",
    "plt.ylabel(\"Classification Accuracy\")\n",
    "plt.xlabel(\"Number of Features\")\n",
    "plt.title(f\"Feature Selection using RFECV \\n Optimal number of features is {optimal_feature_count} (at score of {round(max(fit.cv_results_['mean_test_score']),4)})\")\n",
    "plt.tight_layout()\n",
    "plt.show()"
   ]
  },
  {
   "cell_type": "markdown",
   "id": "2214e6de",
   "metadata": {},
   "source": [
    "# Logistic Regression <a name=\"logreg-title\"></a>"
   ]
  },
  {
   "cell_type": "code",
   "execution_count": 308,
   "id": "fd0696bf",
   "metadata": {},
   "outputs": [
    {
     "data": {
      "text/plain": [
       "LogisticRegression(max_iter=1000, random_state=42)"
      ]
     },
     "execution_count": 308,
     "metadata": {},
     "output_type": "execute_result"
    }
   ],
   "source": [
    "clf = LogisticRegression(random_state = 42, max_iter = 1000)\n",
    "clf.fit(Z_train, y_train)"
   ]
  },
  {
   "cell_type": "code",
   "execution_count": 309,
   "id": "efc68570",
   "metadata": {},
   "outputs": [
    {
     "data": {
      "text/plain": [
       "0.8957055214723927"
      ]
     },
     "execution_count": 309,
     "metadata": {},
     "output_type": "execute_result"
    }
   ],
   "source": [
    "y_pred_class= clf.predict(Z_test)\n",
    "y_pred_prob = clf.predict_proba(Z_test)[:, 1] \n",
    "accuracy_score(y_test, y_pred_class)"
   ]
  },
  {
   "cell_type": "code",
   "execution_count": 310,
   "id": "b1ab9c24",
   "metadata": {},
   "outputs": [
    {
     "data": {
      "text/plain": [
       "array([[112,   6],\n",
       "       [ 11,  34]], dtype=int64)"
      ]
     },
     "execution_count": 310,
     "metadata": {},
     "output_type": "execute_result"
    }
   ],
   "source": [
    "conf_matrix = confusion_matrix(y_test, y_pred_class)\n",
    "conf_matrix"
   ]
  },
  {
   "cell_type": "code",
   "execution_count": 311,
   "id": "c96d3085",
   "metadata": {},
   "outputs": [
    {
     "data": {
      "image/png": "[encoded data removed]",
      "text/plain": [
       "<Figure size 633.6x633.6 with 1 Axes>"
      ]
     },
     "metadata": {
      "needs_background": "light"
     },
     "output_type": "display_data"
    }
   ],
   "source": [
    "plt.style.use(\"seaborn-poster\")\n",
    "plt.matshow(conf_matrix, cmap = \"coolwarm\")\n",
    "plt.gca().xaxis.tick_bottom()\n",
    "plt.title(\"Confusion Matrix\")\n",
    "plt.ylabel(\"Actual Class\")\n",
    "plt.xlabel(\"Predicted Class\")\n",
    "for (i, j), corr_value in np.ndenumerate(conf_matrix):\n",
    "    plt.text(j, i, corr_value, ha = \"center\", va = \"center\", fontsize = 20)\n",
    "plt.show()"
   ]
  },
  {
   "cell_type": "code",
   "execution_count": 335,
   "id": "18f53a7a",
   "metadata": {},
   "outputs": [
    {
     "name": "stdout",
     "output_type": "stream",
     "text": [
      "Accuracy score is 89.57, meaning the model coorectly predicts 89.57% of the test set observations\n",
      "Precision score is 85.0, meaning for our predicted delivery club signups, the model was correct 85.0% of the time\n",
      "Recall score is 75.56, meaning of allactual delivery club signups, the model correctly predicts 75.56% of the time\n",
      "F1 score is 0.8\n"
     ]
    }
   ],
   "source": [
    "# classification accuracy\n",
    "accuracy_lr = round(accuracy_score(y_test, y_pred_class)*100, 2)\n",
    "print(f\"Accuracy score is {accuracy_lr}, meaning the model coorectly predicts {accuracy_lr}% of the test set observations\")\n",
    "\n",
    "# precision\n",
    "precision_lr = round(precision_score(y_test, y_pred_class)*100, 2)\n",
    "print(f\"Precision score is {precision_lr}, meaning for our predicted delivery club signups, the model was correct {precision_lr}% of the time\")\n",
    "\n",
    "# recall\n",
    "recall_lr = round(recall_score(y_test, y_pred_class)*100, 2)\n",
    "print(f\"Recall score is {recall_lr}, meaning of allactual delivery club signups, the model correctly predicts {recall_lr}% of the time\")\n",
    "\n",
    "# f1-score\n",
    "f1_lr = round(f1_score(y_test, y_pred_class), 2)\n",
    "print(f\"F1 score is {f1_lr}\")"
   ]
  },
  {
   "cell_type": "code",
   "execution_count": 313,
   "id": "f46a615a",
   "metadata": {
    "scrolled": true
   },
   "outputs": [
    {
     "data": {
      "image/png": "[encoded data removed]",
      "text/plain": [
       "<Figure size 921.6x633.6 with 1 Axes>"
      ]
     },
     "metadata": {
      "needs_background": "light"
     },
     "output_type": "display_data"
    }
   ],
   "source": [
    "#finding the optimal classification threshold \n",
    "\n",
    "# set up the list of thresholds to loop through\n",
    "thresholds = np.arange(0, 1, 0.01)\n",
    "\n",
    "# create empty lists to append the results to\n",
    "precision_scores = []\n",
    "recall_scores = []\n",
    "f1_scores = []\n",
    "\n",
    "# loop through each threshold - fit the model - append the results\n",
    "for threshold in thresholds:\n",
    "    \n",
    "    pred_class = (y_pred_prob >= threshold) * 1\n",
    "    \n",
    "    precision = precision_score(y_test, pred_class, zero_division = 0)\n",
    "    precision_scores.append(precision)\n",
    "    \n",
    "    recall = recall_score(y_test, pred_class)\n",
    "    recall_scores.append(recall)\n",
    "    \n",
    "    f1 = f1_score(y_test, pred_class)\n",
    "    f1_scores.append(f1)\n",
    "    \n",
    "# extract the optimal f1-score (and it's index)\n",
    "max_f1 = max(f1_scores)\n",
    "max_f1_idx = f1_scores.index(max_f1)\n",
    "\n",
    "\n",
    "\n",
    "# plot the results\n",
    "plt.style.use(\"seaborn-poster\")\n",
    "plt.plot(thresholds, precision_scores, label = \"Precision\", linestyle = \"--\")\n",
    "plt.plot(thresholds, recall_scores, label = \"Recall\", linestyle = \"--\")\n",
    "plt.plot(thresholds, f1_scores, label = \"F1\", linewidth = 5)\n",
    "plt.title(f\"Finding the Optimal Threshold for Classification Model \\n Max F1: {round(max_f1,2)} (Threshold = {round(thresholds[max_f1_idx],2)})\")\n",
    "plt.xlabel(\"Threshold\")\n",
    "plt.ylabel(\"Assessment Score\")\n",
    "plt.legend(loc = \"lower left\")\n",
    "plt.tight_layout()\n",
    "plt.show()"
   ]
  },
  {
   "cell_type": "markdown",
   "id": "6235ce8c",
   "metadata": {},
   "source": [
    "# Decision Trees <a name=\"clftree-title\"></a>\n"
   ]
  },
  {
   "cell_type": "code",
   "execution_count": 197,
   "id": "8465bbba",
   "metadata": {},
   "outputs": [],
   "source": [
    "mapper_dt = DataFrameMapper([\n",
    "    (['distance_from_store'], None), \n",
    "      ('gender', LabelBinarizer()), \n",
    "      (['credit_score'], None),\n",
    "      (['total_sales'],None),\n",
    "       (['total_items'], None),\n",
    "      (['transaction_count'],None), \n",
    "      (['product_area_count'],None), \n",
    "       (['average_basket_value'], None)], df_out = True)"
   ]
  },
  {
   "cell_type": "code",
   "execution_count": 198,
   "id": "f4120008",
   "metadata": {},
   "outputs": [
    {
     "data": {
      "text/plain": [
       "DataFrameMapper(df_out=True, drop_cols=[],\n",
       "                features=[(['distance_from_store'], None),\n",
       "                          ('gender', LabelBinarizer()),\n",
       "                          (['credit_score'], None), (['total_sales'], None),\n",
       "                          (['total_items'], None),\n",
       "                          (['transaction_count'], None),\n",
       "                          (['product_area_count'], None),\n",
       "                          (['average_basket_value'], None)])"
      ]
     },
     "execution_count": 198,
     "metadata": {},
     "output_type": "execute_result"
    }
   ],
   "source": [
    "mapper_dt.fit(X_train)"
   ]
  },
  {
   "cell_type": "code",
   "execution_count": 199,
   "id": "6d95b0ae",
   "metadata": {},
   "outputs": [],
   "source": [
    "Z_train_dt = mapper_dt.transform (X_train)\n",
    "Z_test_dt = mapper_dt.transform(X_test)\n"
   ]
  },
  {
   "cell_type": "code",
   "execution_count": 305,
   "id": "68a5588f",
   "metadata": {},
   "outputs": [
    {
     "data": {
      "text/html": [
       "<div>\n",
       "<style scoped>\n",
       "    .dataframe tbody tr th:only-of-type {\n",
       "        vertical-align: middle;\n",
       "    }\n",
       "\n",
       "    .dataframe tbody tr th {\n",
       "        vertical-align: top;\n",
       "    }\n",
       "\n",
       "    .dataframe thead th {\n",
       "        text-align: right;\n",
       "    }\n",
       "</style>\n",
       "<table border=\"1\" class=\"dataframe\">\n",
       "  <thead>\n",
       "    <tr style=\"text-align: right;\">\n",
       "      <th></th>\n",
       "      <th>distance_from_store</th>\n",
       "      <th>gender</th>\n",
       "      <th>credit_score</th>\n",
       "      <th>total_sales</th>\n",
       "      <th>total_items</th>\n",
       "      <th>transaction_count</th>\n",
       "      <th>product_area_count</th>\n",
       "      <th>average_basket_value</th>\n",
       "    </tr>\n",
       "  </thead>\n",
       "  <tbody>\n",
       "    <tr>\n",
       "      <th>42</th>\n",
       "      <td>4.93</td>\n",
       "      <td>0</td>\n",
       "      <td>0.64</td>\n",
       "      <td>1599.33</td>\n",
       "      <td>171</td>\n",
       "      <td>19</td>\n",
       "      <td>5</td>\n",
       "      <td>84.175263</td>\n",
       "    </tr>\n",
       "    <tr>\n",
       "      <th>669</th>\n",
       "      <td>2.03</td>\n",
       "      <td>1</td>\n",
       "      <td>0.69</td>\n",
       "      <td>266.74</td>\n",
       "      <td>57</td>\n",
       "      <td>9</td>\n",
       "      <td>4</td>\n",
       "      <td>29.637778</td>\n",
       "    </tr>\n",
       "  </tbody>\n",
       "</table>\n",
       "</div>"
      ],
      "text/plain": [
       "     distance_from_store  gender  credit_score  total_sales  total_items  \\\n",
       "42                  4.93       0          0.64      1599.33          171   \n",
       "669                 2.03       1          0.69       266.74           57   \n",
       "\n",
       "     transaction_count  product_area_count  average_basket_value  \n",
       "42                  19                   5             84.175263  \n",
       "669                  9                   4             29.637778  "
      ]
     },
     "execution_count": 305,
     "metadata": {},
     "output_type": "execute_result"
    }
   ],
   "source": [
    "Z_train_dt.sample(2)"
   ]
  },
  {
   "cell_type": "code",
   "execution_count": 306,
   "id": "6134b4c8",
   "metadata": {},
   "outputs": [
    {
     "data": {
      "text/html": [
       "<div>\n",
       "<style scoped>\n",
       "    .dataframe tbody tr th:only-of-type {\n",
       "        vertical-align: middle;\n",
       "    }\n",
       "\n",
       "    .dataframe tbody tr th {\n",
       "        vertical-align: top;\n",
       "    }\n",
       "\n",
       "    .dataframe thead th {\n",
       "        text-align: right;\n",
       "    }\n",
       "</style>\n",
       "<table border=\"1\" class=\"dataframe\">\n",
       "  <thead>\n",
       "    <tr style=\"text-align: right;\">\n",
       "      <th></th>\n",
       "      <th>distance_from_store</th>\n",
       "      <th>gender</th>\n",
       "      <th>credit_score</th>\n",
       "      <th>total_sales</th>\n",
       "      <th>total_items</th>\n",
       "      <th>transaction_count</th>\n",
       "      <th>product_area_count</th>\n",
       "      <th>average_basket_value</th>\n",
       "    </tr>\n",
       "  </thead>\n",
       "  <tbody>\n",
       "    <tr>\n",
       "      <th>40</th>\n",
       "      <td>4.50</td>\n",
       "      <td>0</td>\n",
       "      <td>0.75</td>\n",
       "      <td>2514.46</td>\n",
       "      <td>255</td>\n",
       "      <td>27</td>\n",
       "      <td>5</td>\n",
       "      <td>93.128148</td>\n",
       "    </tr>\n",
       "    <tr>\n",
       "      <th>809</th>\n",
       "      <td>1.51</td>\n",
       "      <td>1</td>\n",
       "      <td>0.55</td>\n",
       "      <td>3162.69</td>\n",
       "      <td>440</td>\n",
       "      <td>52</td>\n",
       "      <td>5</td>\n",
       "      <td>60.820962</td>\n",
       "    </tr>\n",
       "  </tbody>\n",
       "</table>\n",
       "</div>"
      ],
      "text/plain": [
       "     distance_from_store  gender  credit_score  total_sales  total_items  \\\n",
       "40                  4.50       0          0.75      2514.46          255   \n",
       "809                 1.51       1          0.55      3162.69          440   \n",
       "\n",
       "     transaction_count  product_area_count  average_basket_value  \n",
       "40                  27                   5             93.128148  \n",
       "809                 52                   5             60.820962  "
      ]
     },
     "execution_count": 306,
     "metadata": {},
     "output_type": "execute_result"
    }
   ],
   "source": [
    "Z_test_dt.sample(2)"
   ]
  },
  {
   "cell_type": "code",
   "execution_count": 193,
   "id": "1a0579d8",
   "metadata": {},
   "outputs": [],
   "source": [
    "dt = DecisionTreeClassifier(random_state = 42, max_depth = 5)"
   ]
  },
  {
   "cell_type": "code",
   "execution_count": 204,
   "id": "3f5e557c",
   "metadata": {},
   "outputs": [
    {
     "data": {
      "text/plain": [
       "DecisionTreeClassifier(max_depth=5, random_state=42)"
      ]
     },
     "execution_count": 204,
     "metadata": {},
     "output_type": "execute_result"
    }
   ],
   "source": [
    "dt.fit(Z_train_dt, y_train)"
   ]
  },
  {
   "cell_type": "code",
   "execution_count": 205,
   "id": "3af1a57e",
   "metadata": {},
   "outputs": [],
   "source": [
    "y_pred_class_dt = dt.predict(Z_test_dt)"
   ]
  },
  {
   "cell_type": "code",
   "execution_count": 212,
   "id": "4530cff1",
   "metadata": {},
   "outputs": [],
   "source": [
    "y_pred_prob_dt = dt.predict_proba(Z_test_dt)[:, 1]"
   ]
  },
  {
   "cell_type": "code",
   "execution_count": 214,
   "id": "8b31c01e",
   "metadata": {},
   "outputs": [
    {
     "data": {
      "image/png": "[encoded data removed]",
      "text/plain": [
       "<Figure size 633.6x633.6 with 1 Axes>"
      ]
     },
     "metadata": {
      "needs_background": "light"
     },
     "output_type": "display_data"
    }
   ],
   "source": [
    "# create the confusion matrix\n",
    "conf_matrix = confusion_matrix(y_test, y_pred_class_dt)\n",
    "\n",
    "# plot the confusion matrix\n",
    "plt.style.use(\"seaborn-poster\")\n",
    "plt.matshow(conf_matrix, cmap = \"coolwarm\")\n",
    "plt.gca().xaxis.tick_bottom()\n",
    "plt.title(\"Confusion Matrix\")\n",
    "plt.ylabel(\"Actual Class\")\n",
    "plt.xlabel(\"Predicted Class\")\n",
    "for (i, j), corr_value in np.ndenumerate(conf_matrix):\n",
    "    plt.text(j, i, corr_value, ha = \"center\", va = \"center\", fontsize = 20)\n",
    "plt.show()"
   ]
  },
  {
   "cell_type": "code",
   "execution_count": 329,
   "id": "cda4d71d",
   "metadata": {},
   "outputs": [
    {
     "name": "stdout",
     "output_type": "stream",
     "text": [
      "Accuracy score is 96.93, meaning the model coorectly predicts 96.93% of the test set observations\n",
      "Precision score is 93.48, meaning for our predicted delivery club signups, the model was correct 93.48% of the time\n",
      "Recall score is 95.56, meaning of allactual delivery club signups, the model correctly predicts 95.56% of the time\n",
      "F1 score is 0.95\n"
     ]
    }
   ],
   "source": [
    "accuracy_dt = round(accuracy_score(y_test, y_pred_class_dt)*100, 2)\n",
    "print(f\"Accuracy score is {accuracy_dt}, meaning the model coorectly predicts {accuracy_dt}% of the test set observations\")\n",
    "\n",
    "# precision\n",
    "precision_dt =  round(precision_score(y_test, y_pred_class_dt)*100, 2)\n",
    "print(f\"Precision score is {precision_dt}, meaning for our predicted delivery club signups, the model was correct {precision_dt}% of the time\")\n",
    "\n",
    "# recall\n",
    "recall_dt= round(recall_score(y_test, y_pred_class_dt)*100, 2)\n",
    "print(f\"Recall score is {recall_dt}, meaning of allactual delivery club signups, the model correctly predicts {recall_dt}% of the time\")\n",
    "\n",
    "# f1-score\n",
    "f1_dt = round(f1_score(y_test, y_pred_class_dt), 2)\n",
    "print(f\"F1 score is {f1_dt}\")"
   ]
  },
  {
   "cell_type": "markdown",
   "id": "f73af80f",
   "metadata": {},
   "source": [
    "The Decision Tree model appears to be better than the Logistic Regression model. "
   ]
  },
  {
   "cell_type": "code",
   "execution_count": 230,
   "id": "c5fc3a07",
   "metadata": {},
   "outputs": [
    {
     "data": {
      "image/png": "[encoded data removed]",
      "text/plain": [
       "<Figure size 1800x1080 with 1 Axes>"
      ]
     },
     "metadata": {
      "needs_background": "light"
     },
     "output_type": "display_data"
    }
   ],
   "source": [
    "plt.figure(figsize=(25,15))\n",
    "tree = plot_tree(dt,\n",
    "                 feature_names = X.columns,\n",
    "                 filled = True,\n",
    "                 rounded = True,\n",
    "                 fontsize = 16)"
   ]
  },
  {
   "cell_type": "code",
   "execution_count": 246,
   "id": "b9646c12",
   "metadata": {},
   "outputs": [
    {
     "data": {
      "application/vnd.plotly.v1+json": {
       "config": {
        "plotlyServerURL": "https://plot.ly"
       },
       "data": [
        {
         "hovertemplate": "max_depth_list=%{x}<br>accuracy_scores=%{y}<extra></extra>",
         "legendgroup": "",
         "line": {
          "color": "#636efa",
          "dash": "solid"
         },
         "marker": {
          "symbol": "circle"
         },
         "mode": "lines",
         "name": "",
         "orientation": "v",
         "showlegend": false,
         "type": "scatter",
         "x": [
          1,
          2,
          3,
          4,
          5,
          6,
          7,
          8,
          9,
          10,
          11,
          12,
          13,
          14,
          15,
          16,
          17,
          18,
          19
         ],
         "xaxis": "x",
         "y": [
          0.721311475409836,
          0.7948717948717948,
          0.8712871287128713,
          0.8395061728395062,
          0.945054945054945,
          0.9333333333333333,
          0.9333333333333333,
          0.9333333333333333,
          0.9333333333333333,
          0.9333333333333333,
          0.9333333333333333,
          0.9333333333333333,
          0.9333333333333333,
          0.9333333333333333,
          0.9333333333333333,
          0.9333333333333333,
          0.9333333333333333,
          0.9333333333333333,
          0.9333333333333333
         ],
         "yaxis": "y"
        }
       ],
       "layout": {
        "legend": {
         "tracegroupgap": 0
        },
        "template": {
         "data": {
          "bar": [
           {
            "error_x": {
             "color": "#2a3f5f"
            },
            "error_y": {
             "color": "#2a3f5f"
            },
            "marker": {
             "line": {
              "color": "#E5ECF6",
              "width": 0.5
             },
             "pattern": {
              "fillmode": "overlay",
              "size": 10,
              "solidity": 0.2
             }
            },
            "type": "bar"
           }
          ],
          "barpolar": [
           {
            "marker": {
             "line": {
              "color": "#E5ECF6",
              "width": 0.5
             },
             "pattern": {
              "fillmode": "overlay",
              "size": 10,
              "solidity": 0.2
             }
            },
            "type": "barpolar"
           }
          ],
          "carpet": [
           {
            "aaxis": {
             "endlinecolor": "#2a3f5f",
             "gridcolor": "white",
             "linecolor": "white",
             "minorgridcolor": "white",
             "startlinecolor": "#2a3f5f"
            },
            "baxis": {
             "endlinecolor": "#2a3f5f",
             "gridcolor": "white",
             "linecolor": "white",
             "minorgridcolor": "white",
             "startlinecolor": "#2a3f5f"
            },
            "type": "carpet"
           }
          ],
          "choropleth": [
           {
            "colorbar": {
             "outlinewidth": 0,
             "ticks": ""
            },
            "type": "choropleth"
           }
          ],
          "contour": [
           {
            "colorbar": {
             "outlinewidth": 0,
             "ticks": ""
            },
            "colorscale": [
             [
              0,
              "#0d0887"
             ],
             [
              0.1111111111111111,
              "#46039f"
             ],
             [
              0.2222222222222222,
              "#7201a8"
             ],
             [
              0.3333333333333333,
              "#9c179e"
             ],
             [
              0.4444444444444444,
              "#bd3786"
             ],
             [
              0.5555555555555556,
              "#d8576b"
             ],
             [
              0.6666666666666666,
              "#ed7953"
             ],
             [
              0.7777777777777778,
              "#fb9f3a"
             ],
             [
              0.8888888888888888,
              "#fdca26"
             ],
             [
              1,
              "#f0f921"
             ]
            ],
            "type": "contour"
           }
          ],
          "contourcarpet": [
           {
            "colorbar": {
             "outlinewidth": 0,
             "ticks": ""
            },
            "type": "contourcarpet"
           }
          ],
          "heatmap": [
           {
            "colorbar": {
             "outlinewidth": 0,
             "ticks": ""
            },
            "colorscale": [
             [
              0,
              "#0d0887"
             ],
             [
              0.1111111111111111,
              "#46039f"
             ],
             [
              0.2222222222222222,
              "#7201a8"
             ],
             [
              0.3333333333333333,
              "#9c179e"
             ],
             [
              0.4444444444444444,
              "#bd3786"
             ],
             [
              0.5555555555555556,
              "#d8576b"
             ],
             [
              0.6666666666666666,
              "#ed7953"
             ],
             [
              0.7777777777777778,
              "#fb9f3a"
             ],
             [
              0.8888888888888888,
              "#fdca26"
             ],
             [
              1,
              "#f0f921"
             ]
            ],
            "type": "heatmap"
           }
          ],
          "heatmapgl": [
           {
            "colorbar": {
             "outlinewidth": 0,
             "ticks": ""
            },
            "colorscale": [
             [
              0,
              "#0d0887"
             ],
             [
              0.1111111111111111,
              "#46039f"
             ],
             [
              0.2222222222222222,
              "#7201a8"
             ],
             [
              0.3333333333333333,
              "#9c179e"
             ],
             [
              0.4444444444444444,
              "#bd3786"
             ],
             [
              0.5555555555555556,
              "#d8576b"
             ],
             [
              0.6666666666666666,
              "#ed7953"
             ],
             [
              0.7777777777777778,
              "#fb9f3a"
             ],
             [
              0.8888888888888888,
              "#fdca26"
             ],
             [
              1,
              "#f0f921"
             ]
            ],
            "type": "heatmapgl"
           }
          ],
          "histogram": [
           {
            "marker": {
             "pattern": {
              "fillmode": "overlay",
              "size": 10,
              "solidity": 0.2
             }
            },
            "type": "histogram"
           }
          ],
          "histogram2d": [
           {
            "colorbar": {
             "outlinewidth": 0,
             "ticks": ""
            },
            "colorscale": [
             [
              0,
              "#0d0887"
             ],
             [
              0.1111111111111111,
              "#46039f"
             ],
             [
              0.2222222222222222,
              "#7201a8"
             ],
             [
              0.3333333333333333,
              "#9c179e"
             ],
             [
              0.4444444444444444,
              "#bd3786"
             ],
             [
              0.5555555555555556,
              "#d8576b"
             ],
             [
              0.6666666666666666,
              "#ed7953"
             ],
             [
              0.7777777777777778,
              "#fb9f3a"
             ],
             [
              0.8888888888888888,
              "#fdca26"
             ],
             [
              1,
              "#f0f921"
             ]
            ],
            "type": "histogram2d"
           }
          ],
          "histogram2dcontour": [
           {
            "colorbar": {
             "outlinewidth": 0,
             "ticks": ""
            },
            "colorscale": [
             [
              0,
              "#0d0887"
             ],
             [
              0.1111111111111111,
              "#46039f"
             ],
             [
              0.2222222222222222,
              "#7201a8"
             ],
             [
              0.3333333333333333,
              "#9c179e"
             ],
             [
              0.4444444444444444,
              "#bd3786"
             ],
             [
              0.5555555555555556,
              "#d8576b"
             ],
             [
              0.6666666666666666,
              "#ed7953"
             ],
             [
              0.7777777777777778,
              "#fb9f3a"
             ],
             [
              0.8888888888888888,
              "#fdca26"
             ],
             [
              1,
              "#f0f921"
             ]
            ],
            "type": "histogram2dcontour"
           }
          ],
          "mesh3d": [
           {
            "colorbar": {
             "outlinewidth": 0,
             "ticks": ""
            },
            "type": "mesh3d"
           }
          ],
          "parcoords": [
           {
            "line": {
             "colorbar": {
              "outlinewidth": 0,
              "ticks": ""
             }
            },
            "type": "parcoords"
           }
          ],
          "pie": [
           {
            "automargin": true,
            "type": "pie"
           }
          ],
          "scatter": [
           {
            "marker": {
             "colorbar": {
              "outlinewidth": 0,
              "ticks": ""
             }
            },
            "type": "scatter"
           }
          ],
          "scatter3d": [
           {
            "line": {
             "colorbar": {
              "outlinewidth": 0,
              "ticks": ""
             }
            },
            "marker": {
             "colorbar": {
              "outlinewidth": 0,
              "ticks": ""
             }
            },
            "type": "scatter3d"
           }
          ],
          "scattercarpet": [
           {
            "marker": {
             "colorbar": {
              "outlinewidth": 0,
              "ticks": ""
             }
            },
            "type": "scattercarpet"
           }
          ],
          "scattergeo": [
           {
            "marker": {
             "colorbar": {
              "outlinewidth": 0,
              "ticks": ""
             }
            },
            "type": "scattergeo"
           }
          ],
          "scattergl": [
           {
            "marker": {
             "colorbar": {
              "outlinewidth": 0,
              "ticks": ""
             }
            },
            "type": "scattergl"
           }
          ],
          "scattermapbox": [
           {
            "marker": {
             "colorbar": {
              "outlinewidth": 0,
              "ticks": ""
             }
            },
            "type": "scattermapbox"
           }
          ],
          "scatterpolar": [
           {
            "marker": {
             "colorbar": {
              "outlinewidth": 0,
              "ticks": ""
             }
            },
            "type": "scatterpolar"
           }
          ],
          "scatterpolargl": [
           {
            "marker": {
             "colorbar": {
              "outlinewidth": 0,
              "ticks": ""
             }
            },
            "type": "scatterpolargl"
           }
          ],
          "scatterternary": [
           {
            "marker": {
             "colorbar": {
              "outlinewidth": 0,
              "ticks": ""
             }
            },
            "type": "scatterternary"
           }
          ],
          "surface": [
           {
            "colorbar": {
             "outlinewidth": 0,
             "ticks": ""
            },
            "colorscale": [
             [
              0,
              "#0d0887"
             ],
             [
              0.1111111111111111,
              "#46039f"
             ],
             [
              0.2222222222222222,
              "#7201a8"
             ],
             [
              0.3333333333333333,
              "#9c179e"
             ],
             [
              0.4444444444444444,
              "#bd3786"
             ],
             [
              0.5555555555555556,
              "#d8576b"
             ],
             [
              0.6666666666666666,
              "#ed7953"
             ],
             [
              0.7777777777777778,
              "#fb9f3a"
             ],
             [
              0.8888888888888888,
              "#fdca26"
             ],
             [
              1,
              "#f0f921"
             ]
            ],
            "type": "surface"
           }
          ],
          "table": [
           {
            "cells": {
             "fill": {
              "color": "#EBF0F8"
             },
             "line": {
              "color": "white"
             }
            },
            "header": {
             "fill": {
              "color": "#C8D4E3"
             },
             "line": {
              "color": "white"
             }
            },
            "type": "table"
           }
          ]
         },
         "layout": {
          "annotationdefaults": {
           "arrowcolor": "#2a3f5f",
           "arrowhead": 0,
           "arrowwidth": 1
          },
          "autotypenumbers": "strict",
          "coloraxis": {
           "colorbar": {
            "outlinewidth": 0,
            "ticks": ""
           }
          },
          "colorscale": {
           "diverging": [
            [
             0,
             "#8e0152"
            ],
            [
             0.1,
             "#c51b7d"
            ],
            [
             0.2,
             "#de77ae"
            ],
            [
             0.3,
             "#f1b6da"
            ],
            [
             0.4,
             "#fde0ef"
            ],
            [
             0.5,
             "#f7f7f7"
            ],
            [
             0.6,
             "#e6f5d0"
            ],
            [
             0.7,
             "#b8e186"
            ],
            [
             0.8,
             "#7fbc41"
            ],
            [
             0.9,
             "#4d9221"
            ],
            [
             1,
             "#276419"
            ]
           ],
           "sequential": [
            [
             0,
             "#0d0887"
            ],
            [
             0.1111111111111111,
             "#46039f"
            ],
            [
             0.2222222222222222,
             "#7201a8"
            ],
            [
             0.3333333333333333,
             "#9c179e"
            ],
            [
             0.4444444444444444,
             "#bd3786"
            ],
            [
             0.5555555555555556,
             "#d8576b"
            ],
            [
             0.6666666666666666,
             "#ed7953"
            ],
            [
             0.7777777777777778,
             "#fb9f3a"
            ],
            [
             0.8888888888888888,
             "#fdca26"
            ],
            [
             1,
             "#f0f921"
            ]
           ],
           "sequentialminus": [
            [
             0,
             "#0d0887"
            ],
            [
             0.1111111111111111,
             "#46039f"
            ],
            [
             0.2222222222222222,
             "#7201a8"
            ],
            [
             0.3333333333333333,
             "#9c179e"
            ],
            [
             0.4444444444444444,
             "#bd3786"
            ],
            [
             0.5555555555555556,
             "#d8576b"
            ],
            [
             0.6666666666666666,
             "#ed7953"
            ],
            [
             0.7777777777777778,
             "#fb9f3a"
            ],
            [
             0.8888888888888888,
             "#fdca26"
            ],
            [
             1,
             "#f0f921"
            ]
           ]
          },
          "colorway": [
           "#636efa",
           "#EF553B",
           "#00cc96",
           "#ab63fa",
           "#FFA15A",
           "#19d3f3",
           "#FF6692",
           "#B6E880",
           "#FF97FF",
           "#FECB52"
          ],
          "font": {
           "color": "#2a3f5f"
          },
          "geo": {
           "bgcolor": "white",
           "lakecolor": "white",
           "landcolor": "#E5ECF6",
           "showlakes": true,
           "showland": true,
           "subunitcolor": "white"
          },
          "hoverlabel": {
           "align": "left"
          },
          "hovermode": "closest",
          "mapbox": {
           "style": "light"
          },
          "paper_bgcolor": "white",
          "plot_bgcolor": "#E5ECF6",
          "polar": {
           "angularaxis": {
            "gridcolor": "white",
            "linecolor": "white",
            "ticks": ""
           },
           "bgcolor": "#E5ECF6",
           "radialaxis": {
            "gridcolor": "white",
            "linecolor": "white",
            "ticks": ""
           }
          },
          "scene": {
           "xaxis": {
            "backgroundcolor": "#E5ECF6",
            "gridcolor": "white",
            "gridwidth": 2,
            "linecolor": "white",
            "showbackground": true,
            "ticks": "",
            "zerolinecolor": "white"
           },
           "yaxis": {
            "backgroundcolor": "#E5ECF6",
            "gridcolor": "white",
            "gridwidth": 2,
            "linecolor": "white",
            "showbackground": true,
            "ticks": "",
            "zerolinecolor": "white"
           },
           "zaxis": {
            "backgroundcolor": "#E5ECF6",
            "gridcolor": "white",
            "gridwidth": 2,
            "linecolor": "white",
            "showbackground": true,
            "ticks": "",
            "zerolinecolor": "white"
           }
          },
          "shapedefaults": {
           "line": {
            "color": "#2a3f5f"
           }
          },
          "ternary": {
           "aaxis": {
            "gridcolor": "white",
            "linecolor": "white",
            "ticks": ""
           },
           "baxis": {
            "gridcolor": "white",
            "linecolor": "white",
            "ticks": ""
           },
           "bgcolor": "#E5ECF6",
           "caxis": {
            "gridcolor": "white",
            "linecolor": "white",
            "ticks": ""
           }
          },
          "title": {
           "x": 0.05
          },
          "xaxis": {
           "automargin": true,
           "gridcolor": "white",
           "linecolor": "white",
           "ticks": "",
           "title": {
            "standoff": 15
           },
           "zerolinecolor": "white",
           "zerolinewidth": 2
          },
          "yaxis": {
           "automargin": true,
           "gridcolor": "white",
           "linecolor": "white",
           "ticks": "",
           "title": {
            "standoff": 15
           },
           "zerolinecolor": "white",
           "zerolinewidth": 2
          }
         }
        },
        "title": {
         "text": "Accuracy (F1 score) by Max Depth \n Optimal Tree Depth: 5 (F1 Score: 0.9451)"
        },
        "xaxis": {
         "anchor": "y",
         "domain": [
          0,
          1
         ],
         "title": {
          "text": "max_depth_list"
         }
        },
        "yaxis": {
         "anchor": "x",
         "domain": [
          0,
          1
         ],
         "title": {
          "text": "accuracy_scores"
         }
        }
       }
      },
      "text/html": [
       "<div>                            <div id=\"7337a658-8d9e-4b4c-a4c9-99c0608084e7\" class=\"plotly-graph-div\" style=\"height:525px; width:100%;\"></div>            <script type=\"text/javascript\">                require([\"plotly\"], function(Plotly) {                    window.PLOTLYENV=window.PLOTLYENV || {};                                    if (document.getElementById(\"7337a658-8d9e-4b4c-a4c9-99c0608084e7\")) {                    Plotly.newPlot(                        \"7337a658-8d9e-4b4c-a4c9-99c0608084e7\",                        [{\"hovertemplate\":\"max_depth_list=%{x}<br>accuracy_scores=%{y}<extra></extra>\",\"legendgroup\":\"\",\"line\":{\"color\":\"#636efa\",\"dash\":\"solid\"},\"marker\":{\"symbol\":\"circle\"},\"mode\":\"lines\",\"name\":\"\",\"orientation\":\"v\",\"showlegend\":false,\"x\":[1,2,3,4,5,6,7,8,9,10,11,12,13,14,15,16,17,18,19],\"xaxis\":\"x\",\"y\":[0.721311475409836,0.7948717948717948,0.8712871287128713,0.8395061728395062,0.945054945054945,0.9333333333333333,0.9333333333333333,0.9333333333333333,0.9333333333333333,0.9333333333333333,0.9333333333333333,0.9333333333333333,0.9333333333333333,0.9333333333333333,0.9333333333333333,0.9333333333333333,0.9333333333333333,0.9333333333333333,0.9333333333333333],\"yaxis\":\"y\",\"type\":\"scatter\"}],                        {\"template\":{\"data\":{\"bar\":[{\"error_x\":{\"color\":\"#2a3f5f\"},\"error_y\":{\"color\":\"#2a3f5f\"},\"marker\":{\"line\":{\"color\":\"#E5ECF6\",\"width\":0.5},\"pattern\":{\"fillmode\":\"overlay\",\"size\":10,\"solidity\":0.2}},\"type\":\"bar\"}],\"barpolar\":[{\"marker\":{\"line\":{\"color\":\"#E5ECF6\",\"width\":0.5},\"pattern\":{\"fillmode\":\"overlay\",\"size\":10,\"solidity\":0.2}},\"type\":\"barpolar\"}],\"carpet\":[{\"aaxis\":{\"endlinecolor\":\"#2a3f5f\",\"gridcolor\":\"white\",\"linecolor\":\"white\",\"minorgridcolor\":\"white\",\"startlinecolor\":\"#2a3f5f\"},\"baxis\":{\"endlinecolor\":\"#2a3f5f\",\"gridcolor\":\"white\",\"linecolor\":\"white\",\"minorgridcolor\":\"white\",\"startlinecolor\":\"#2a3f5f\"},\"type\":\"carpet\"}],\"choropleth\":[{\"colorbar\":{\"outlinewidth\":0,\"ticks\":\"\"},\"type\":\"choropleth\"}],\"contour\":[{\"colorbar\":{\"outlinewidth\":0,\"ticks\":\"\"},\"colorscale\":[[0.0,\"#0d0887\"],[0.1111111111111111,\"#46039f\"],[0.2222222222222222,\"#7201a8\"],[0.3333333333333333,\"#9c179e\"],[0.4444444444444444,\"#bd3786\"],[0.5555555555555556,\"#d8576b\"],[0.6666666666666666,\"#ed7953\"],[0.7777777777777778,\"#fb9f3a\"],[0.8888888888888888,\"#fdca26\"],[1.0,\"#f0f921\"]],\"type\":\"contour\"}],\"contourcarpet\":[{\"colorbar\":{\"outlinewidth\":0,\"ticks\":\"\"},\"type\":\"contourcarpet\"}],\"heatmap\":[{\"colorbar\":{\"outlinewidth\":0,\"ticks\":\"\"},\"colorscale\":[[0.0,\"#0d0887\"],[0.1111111111111111,\"#46039f\"],[0.2222222222222222,\"#7201a8\"],[0.3333333333333333,\"#9c179e\"],[0.4444444444444444,\"#bd3786\"],[0.5555555555555556,\"#d8576b\"],[0.6666666666666666,\"#ed7953\"],[0.7777777777777778,\"#fb9f3a\"],[0.8888888888888888,\"#fdca26\"],[1.0,\"#f0f921\"]],\"type\":\"heatmap\"}],\"heatmapgl\":[{\"colorbar\":{\"outlinewidth\":0,\"ticks\":\"\"},\"colorscale\":[[0.0,\"#0d0887\"],[0.1111111111111111,\"#46039f\"],[0.2222222222222222,\"#7201a8\"],[0.3333333333333333,\"#9c179e\"],[0.4444444444444444,\"#bd3786\"],[0.5555555555555556,\"#d8576b\"],[0.6666666666666666,\"#ed7953\"],[0.7777777777777778,\"#fb9f3a\"],[0.8888888888888888,\"#fdca26\"],[1.0,\"#f0f921\"]],\"type\":\"heatmapgl\"}],\"histogram\":[{\"marker\":{\"pattern\":{\"fillmode\":\"overlay\",\"size\":10,\"solidity\":0.2}},\"type\":\"histogram\"}],\"histogram2d\":[{\"colorbar\":{\"outlinewidth\":0,\"ticks\":\"\"},\"colorscale\":[[0.0,\"#0d0887\"],[0.1111111111111111,\"#46039f\"],[0.2222222222222222,\"#7201a8\"],[0.3333333333333333,\"#9c179e\"],[0.4444444444444444,\"#bd3786\"],[0.5555555555555556,\"#d8576b\"],[0.6666666666666666,\"#ed7953\"],[0.7777777777777778,\"#fb9f3a\"],[0.8888888888888888,\"#fdca26\"],[1.0,\"#f0f921\"]],\"type\":\"histogram2d\"}],\"histogram2dcontour\":[{\"colorbar\":{\"outlinewidth\":0,\"ticks\":\"\"},\"colorscale\":[[0.0,\"#0d0887\"],[0.1111111111111111,\"#46039f\"],[0.2222222222222222,\"#7201a8\"],[0.3333333333333333,\"#9c179e\"],[0.4444444444444444,\"#bd3786\"],[0.5555555555555556,\"#d8576b\"],[0.6666666666666666,\"#ed7953\"],[0.7777777777777778,\"#fb9f3a\"],[0.8888888888888888,\"#fdca26\"],[1.0,\"#f0f921\"]],\"type\":\"histogram2dcontour\"}],\"mesh3d\":[{\"colorbar\":{\"outlinewidth\":0,\"ticks\":\"\"},\"type\":\"mesh3d\"}],\"parcoords\":[{\"line\":{\"colorbar\":{\"outlinewidth\":0,\"ticks\":\"\"}},\"type\":\"parcoords\"}],\"pie\":[{\"automargin\":true,\"type\":\"pie\"}],\"scatter\":[{\"marker\":{\"colorbar\":{\"outlinewidth\":0,\"ticks\":\"\"}},\"type\":\"scatter\"}],\"scatter3d\":[{\"line\":{\"colorbar\":{\"outlinewidth\":0,\"ticks\":\"\"}},\"marker\":{\"colorbar\":{\"outlinewidth\":0,\"ticks\":\"\"}},\"type\":\"scatter3d\"}],\"scattercarpet\":[{\"marker\":{\"colorbar\":{\"outlinewidth\":0,\"ticks\":\"\"}},\"type\":\"scattercarpet\"}],\"scattergeo\":[{\"marker\":{\"colorbar\":{\"outlinewidth\":0,\"ticks\":\"\"}},\"type\":\"scattergeo\"}],\"scattergl\":[{\"marker\":{\"colorbar\":{\"outlinewidth\":0,\"ticks\":\"\"}},\"type\":\"scattergl\"}],\"scattermapbox\":[{\"marker\":{\"colorbar\":{\"outlinewidth\":0,\"ticks\":\"\"}},\"type\":\"scattermapbox\"}],\"scatterpolar\":[{\"marker\":{\"colorbar\":{\"outlinewidth\":0,\"ticks\":\"\"}},\"type\":\"scatterpolar\"}],\"scatterpolargl\":[{\"marker\":{\"colorbar\":{\"outlinewidth\":0,\"ticks\":\"\"}},\"type\":\"scatterpolargl\"}],\"scatterternary\":[{\"marker\":{\"colorbar\":{\"outlinewidth\":0,\"ticks\":\"\"}},\"type\":\"scatterternary\"}],\"surface\":[{\"colorbar\":{\"outlinewidth\":0,\"ticks\":\"\"},\"colorscale\":[[0.0,\"#0d0887\"],[0.1111111111111111,\"#46039f\"],[0.2222222222222222,\"#7201a8\"],[0.3333333333333333,\"#9c179e\"],[0.4444444444444444,\"#bd3786\"],[0.5555555555555556,\"#d8576b\"],[0.6666666666666666,\"#ed7953\"],[0.7777777777777778,\"#fb9f3a\"],[0.8888888888888888,\"#fdca26\"],[1.0,\"#f0f921\"]],\"type\":\"surface\"}],\"table\":[{\"cells\":{\"fill\":{\"color\":\"#EBF0F8\"},\"line\":{\"color\":\"white\"}},\"header\":{\"fill\":{\"color\":\"#C8D4E3\"},\"line\":{\"color\":\"white\"}},\"type\":\"table\"}]},\"layout\":{\"annotationdefaults\":{\"arrowcolor\":\"#2a3f5f\",\"arrowhead\":0,\"arrowwidth\":1},\"autotypenumbers\":\"strict\",\"coloraxis\":{\"colorbar\":{\"outlinewidth\":0,\"ticks\":\"\"}},\"colorscale\":{\"diverging\":[[0,\"#8e0152\"],[0.1,\"#c51b7d\"],[0.2,\"#de77ae\"],[0.3,\"#f1b6da\"],[0.4,\"#fde0ef\"],[0.5,\"#f7f7f7\"],[0.6,\"#e6f5d0\"],[0.7,\"#b8e186\"],[0.8,\"#7fbc41\"],[0.9,\"#4d9221\"],[1,\"#276419\"]],\"sequential\":[[0.0,\"#0d0887\"],[0.1111111111111111,\"#46039f\"],[0.2222222222222222,\"#7201a8\"],[0.3333333333333333,\"#9c179e\"],[0.4444444444444444,\"#bd3786\"],[0.5555555555555556,\"#d8576b\"],[0.6666666666666666,\"#ed7953\"],[0.7777777777777778,\"#fb9f3a\"],[0.8888888888888888,\"#fdca26\"],[1.0,\"#f0f921\"]],\"sequentialminus\":[[0.0,\"#0d0887\"],[0.1111111111111111,\"#46039f\"],[0.2222222222222222,\"#7201a8\"],[0.3333333333333333,\"#9c179e\"],[0.4444444444444444,\"#bd3786\"],[0.5555555555555556,\"#d8576b\"],[0.6666666666666666,\"#ed7953\"],[0.7777777777777778,\"#fb9f3a\"],[0.8888888888888888,\"#fdca26\"],[1.0,\"#f0f921\"]]},\"colorway\":[\"#636efa\",\"#EF553B\",\"#00cc96\",\"#ab63fa\",\"#FFA15A\",\"#19d3f3\",\"#FF6692\",\"#B6E880\",\"#FF97FF\",\"#FECB52\"],\"font\":{\"color\":\"#2a3f5f\"},\"geo\":{\"bgcolor\":\"white\",\"lakecolor\":\"white\",\"landcolor\":\"#E5ECF6\",\"showlakes\":true,\"showland\":true,\"subunitcolor\":\"white\"},\"hoverlabel\":{\"align\":\"left\"},\"hovermode\":\"closest\",\"mapbox\":{\"style\":\"light\"},\"paper_bgcolor\":\"white\",\"plot_bgcolor\":\"#E5ECF6\",\"polar\":{\"angularaxis\":{\"gridcolor\":\"white\",\"linecolor\":\"white\",\"ticks\":\"\"},\"bgcolor\":\"#E5ECF6\",\"radialaxis\":{\"gridcolor\":\"white\",\"linecolor\":\"white\",\"ticks\":\"\"}},\"scene\":{\"xaxis\":{\"backgroundcolor\":\"#E5ECF6\",\"gridcolor\":\"white\",\"gridwidth\":2,\"linecolor\":\"white\",\"showbackground\":true,\"ticks\":\"\",\"zerolinecolor\":\"white\"},\"yaxis\":{\"backgroundcolor\":\"#E5ECF6\",\"gridcolor\":\"white\",\"gridwidth\":2,\"linecolor\":\"white\",\"showbackground\":true,\"ticks\":\"\",\"zerolinecolor\":\"white\"},\"zaxis\":{\"backgroundcolor\":\"#E5ECF6\",\"gridcolor\":\"white\",\"gridwidth\":2,\"linecolor\":\"white\",\"showbackground\":true,\"ticks\":\"\",\"zerolinecolor\":\"white\"}},\"shapedefaults\":{\"line\":{\"color\":\"#2a3f5f\"}},\"ternary\":{\"aaxis\":{\"gridcolor\":\"white\",\"linecolor\":\"white\",\"ticks\":\"\"},\"baxis\":{\"gridcolor\":\"white\",\"linecolor\":\"white\",\"ticks\":\"\"},\"bgcolor\":\"#E5ECF6\",\"caxis\":{\"gridcolor\":\"white\",\"linecolor\":\"white\",\"ticks\":\"\"}},\"title\":{\"x\":0.05},\"xaxis\":{\"automargin\":true,\"gridcolor\":\"white\",\"linecolor\":\"white\",\"ticks\":\"\",\"title\":{\"standoff\":15},\"zerolinecolor\":\"white\",\"zerolinewidth\":2},\"yaxis\":{\"automargin\":true,\"gridcolor\":\"white\",\"linecolor\":\"white\",\"ticks\":\"\",\"title\":{\"standoff\":15},\"zerolinecolor\":\"white\",\"zerolinewidth\":2}}},\"xaxis\":{\"anchor\":\"y\",\"domain\":[0.0,1.0],\"title\":{\"text\":\"max_depth_list\"}},\"yaxis\":{\"anchor\":\"x\",\"domain\":[0.0,1.0],\"title\":{\"text\":\"accuracy_scores\"}},\"legend\":{\"tracegroupgap\":0},\"title\":{\"text\":\"Accuracy (F1 score) by Max Depth \\n Optimal Tree Depth: 5 (F1 Score: 0.9451)\"}},                        {\"responsive\": true}                    ).then(function(){\n",
       "                            \n",
       "var gd = document.getElementById('7337a658-8d9e-4b4c-a4c9-99c0608084e7');\n",
       "var x = new MutationObserver(function (mutations, observer) {{\n",
       "        var display = window.getComputedStyle(gd).display;\n",
       "        if (!display || display === 'none') {{\n",
       "            console.log([gd, 'removed!']);\n",
       "            Plotly.purge(gd);\n",
       "            observer.disconnect();\n",
       "        }}\n",
       "}});\n",
       "\n",
       "// Listen for the removal of the full notebook cells\n",
       "var notebookContainer = gd.closest('#notebook-container');\n",
       "if (notebookContainer) {{\n",
       "    x.observe(notebookContainer, {childList: true});\n",
       "}}\n",
       "\n",
       "// Listen for the clearing of the current output cell\n",
       "var outputEl = gd.closest('.output');\n",
       "if (outputEl) {{\n",
       "    x.observe(outputEl, {childList: true});\n",
       "}}\n",
       "\n",
       "                        })                };                });            </script>        </div>"
      ]
     },
     "metadata": {},
     "output_type": "display_data"
    }
   ],
   "source": [
    "#finding the best max depth to prevent overfitting \n",
    "\n",
    "max_depth_list = list(range(1,20))\n",
    "accuracy_scores = []\n",
    "\n",
    "# loop through each possible depth, train and validate model, append test set f1-score\n",
    "for depth in max_depth_list:\n",
    "    \n",
    "    dt = DecisionTreeClassifier(max_depth = depth, random_state = 42)\n",
    "    dt.fit(Z_train_dt,y_train)\n",
    "    y_pred_dt = dt.predict(Z_test_dt)\n",
    "    accuracy = f1_score(y_test,y_pred_dt)\n",
    "    accuracy_scores.append(accuracy)\n",
    "    \n",
    "# store max accuracy, and optimal depth    \n",
    "max_accuracy = max(accuracy_scores)\n",
    "max_accuracy_idx = accuracy_scores.index(max_accuracy)\n",
    "optimal_depth = max_depth_list[max_accuracy_idx]\n",
    "\n",
    "df = pd.DataFrame({'max_depth_list': max_depth_list, 'accuracy_scores': accuracy_scores})\n",
    "                   \n",
    "# plot accuracy by max depth\n",
    "px.line(df, x = \"max_depth_list\", y = \"accuracy_scores\", \n",
    "        title = f\"Accuracy (F1 score) by Max Depth \\n Optimal Tree Depth: {optimal_depth} (F1 Score: {round(max_accuracy, 4)})\")\n",
    "           \n"
   ]
  },
  {
   "cell_type": "markdown",
   "id": "915378b1",
   "metadata": {},
   "source": [
    "Maximum F1-score on the test setc is found when applying a maximum depth value of 5 which takes our F1 score to 0.9451"
   ]
  },
  {
   "cell_type": "markdown",
   "id": "9f34f584",
   "metadata": {},
   "source": [
    "# Random Forest <a name=\"rf-title\"></a>"
   ]
  },
  {
   "cell_type": "markdown",
   "id": "64cf04f9",
   "metadata": {},
   "source": [
    "The same preprocessing steps used for Decision Trees can be used for Random Forest (which is an ensemble of decision trees)"
   ]
  },
  {
   "cell_type": "code",
   "execution_count": 266,
   "id": "fd8a0ee8",
   "metadata": {},
   "outputs": [],
   "source": [
    "from sklearn.ensemble import RandomForestClassifier\n",
    "from sklearn.inspection import permutation_importance"
   ]
  },
  {
   "cell_type": "code",
   "execution_count": 267,
   "id": "57a7e5b4",
   "metadata": {},
   "outputs": [],
   "source": [
    "mapper_rf = DataFrameMapper([\n",
    "    (['distance_from_store'], None), \n",
    "      ('gender', LabelBinarizer()), \n",
    "      (['credit_score'], None),\n",
    "      (['total_sales'],None),\n",
    "       (['total_items'], None),\n",
    "      (['transaction_count'],None), \n",
    "      (['product_area_count'],None), \n",
    "       (['average_basket_value'], None)], df_out = True)"
   ]
  },
  {
   "cell_type": "code",
   "execution_count": 248,
   "id": "24bed5cc",
   "metadata": {},
   "outputs": [
    {
     "data": {
      "text/plain": [
       "DataFrameMapper(df_out=True, drop_cols=[],\n",
       "                features=[(['distance_from_store'], None),\n",
       "                          ('gender', LabelBinarizer()),\n",
       "                          (['credit_score'], None), (['total_sales'], None),\n",
       "                          (['total_items'], None),\n",
       "                          (['transaction_count'], None),\n",
       "                          (['product_area_count'], None),\n",
       "                          (['average_basket_value'], None)])"
      ]
     },
     "execution_count": 248,
     "metadata": {},
     "output_type": "execute_result"
    }
   ],
   "source": [
    "mapper_rf.fit(X_train)"
   ]
  },
  {
   "cell_type": "code",
   "execution_count": 249,
   "id": "04df9eed",
   "metadata": {},
   "outputs": [],
   "source": [
    "Z_train_rf = mapper_dt.transform (X_train)\n",
    "Z_test_rf= mapper_dt.transform(X_test)\n"
   ]
  },
  {
   "cell_type": "code",
   "execution_count": 250,
   "id": "e61aa329",
   "metadata": {},
   "outputs": [
    {
     "data": {
      "text/html": [
       "<div>\n",
       "<style scoped>\n",
       "    .dataframe tbody tr th:only-of-type {\n",
       "        vertical-align: middle;\n",
       "    }\n",
       "\n",
       "    .dataframe tbody tr th {\n",
       "        vertical-align: top;\n",
       "    }\n",
       "\n",
       "    .dataframe thead th {\n",
       "        text-align: right;\n",
       "    }\n",
       "</style>\n",
       "<table border=\"1\" class=\"dataframe\">\n",
       "  <thead>\n",
       "    <tr style=\"text-align: right;\">\n",
       "      <th></th>\n",
       "      <th>distance_from_store</th>\n",
       "      <th>gender</th>\n",
       "      <th>credit_score</th>\n",
       "      <th>total_sales</th>\n",
       "      <th>total_items</th>\n",
       "      <th>transaction_count</th>\n",
       "      <th>product_area_count</th>\n",
       "      <th>average_basket_value</th>\n",
       "    </tr>\n",
       "  </thead>\n",
       "  <tbody>\n",
       "    <tr>\n",
       "      <th>719</th>\n",
       "      <td>1.84</td>\n",
       "      <td>1</td>\n",
       "      <td>0.68</td>\n",
       "      <td>211.84</td>\n",
       "      <td>52</td>\n",
       "      <td>8</td>\n",
       "      <td>4</td>\n",
       "      <td>26.480000</td>\n",
       "    </tr>\n",
       "    <tr>\n",
       "      <th>24</th>\n",
       "      <td>4.47</td>\n",
       "      <td>0</td>\n",
       "      <td>0.74</td>\n",
       "      <td>2714.92</td>\n",
       "      <td>309</td>\n",
       "      <td>32</td>\n",
       "      <td>5</td>\n",
       "      <td>84.841250</td>\n",
       "    </tr>\n",
       "    <tr>\n",
       "      <th>129</th>\n",
       "      <td>2.23</td>\n",
       "      <td>0</td>\n",
       "      <td>0.55</td>\n",
       "      <td>1162.55</td>\n",
       "      <td>185</td>\n",
       "      <td>26</td>\n",
       "      <td>4</td>\n",
       "      <td>44.713462</td>\n",
       "    </tr>\n",
       "    <tr>\n",
       "      <th>730</th>\n",
       "      <td>7.84</td>\n",
       "      <td>0</td>\n",
       "      <td>0.67</td>\n",
       "      <td>297.28</td>\n",
       "      <td>72</td>\n",
       "      <td>9</td>\n",
       "      <td>4</td>\n",
       "      <td>33.031111</td>\n",
       "    </tr>\n",
       "    <tr>\n",
       "      <th>153</th>\n",
       "      <td>1.70</td>\n",
       "      <td>1</td>\n",
       "      <td>0.69</td>\n",
       "      <td>924.54</td>\n",
       "      <td>131</td>\n",
       "      <td>12</td>\n",
       "      <td>3</td>\n",
       "      <td>77.045000</td>\n",
       "    </tr>\n",
       "    <tr>\n",
       "      <th>...</th>\n",
       "      <td>...</td>\n",
       "      <td>...</td>\n",
       "      <td>...</td>\n",
       "      <td>...</td>\n",
       "      <td>...</td>\n",
       "      <td>...</td>\n",
       "      <td>...</td>\n",
       "      <td>...</td>\n",
       "    </tr>\n",
       "    <tr>\n",
       "      <th>522</th>\n",
       "      <td>1.12</td>\n",
       "      <td>0</td>\n",
       "      <td>0.49</td>\n",
       "      <td>375.36</td>\n",
       "      <td>118</td>\n",
       "      <td>22</td>\n",
       "      <td>5</td>\n",
       "      <td>17.061818</td>\n",
       "    </tr>\n",
       "    <tr>\n",
       "      <th>589</th>\n",
       "      <td>0.18</td>\n",
       "      <td>1</td>\n",
       "      <td>0.26</td>\n",
       "      <td>645.26</td>\n",
       "      <td>108</td>\n",
       "      <td>28</td>\n",
       "      <td>5</td>\n",
       "      <td>23.045000</td>\n",
       "    </tr>\n",
       "    <tr>\n",
       "      <th>801</th>\n",
       "      <td>1.71</td>\n",
       "      <td>1</td>\n",
       "      <td>0.59</td>\n",
       "      <td>3068.81</td>\n",
       "      <td>464</td>\n",
       "      <td>51</td>\n",
       "      <td>5</td>\n",
       "      <td>60.172745</td>\n",
       "    </tr>\n",
       "    <tr>\n",
       "      <th>173</th>\n",
       "      <td>2.42</td>\n",
       "      <td>0</td>\n",
       "      <td>0.48</td>\n",
       "      <td>591.83</td>\n",
       "      <td>133</td>\n",
       "      <td>15</td>\n",
       "      <td>3</td>\n",
       "      <td>39.455333</td>\n",
       "    </tr>\n",
       "    <tr>\n",
       "      <th>7</th>\n",
       "      <td>3.49</td>\n",
       "      <td>0</td>\n",
       "      <td>0.38</td>\n",
       "      <td>1117.90</td>\n",
       "      <td>108</td>\n",
       "      <td>19</td>\n",
       "      <td>5</td>\n",
       "      <td>58.836842</td>\n",
       "    </tr>\n",
       "  </tbody>\n",
       "</table>\n",
       "<p>650 rows × 8 columns</p>\n",
       "</div>"
      ],
      "text/plain": [
       "     distance_from_store  gender  credit_score  total_sales  total_items  \\\n",
       "719                 1.84       1          0.68       211.84           52   \n",
       "24                  4.47       0          0.74      2714.92          309   \n",
       "129                 2.23       0          0.55      1162.55          185   \n",
       "730                 7.84       0          0.67       297.28           72   \n",
       "153                 1.70       1          0.69       924.54          131   \n",
       "..                   ...     ...           ...          ...          ...   \n",
       "522                 1.12       0          0.49       375.36          118   \n",
       "589                 0.18       1          0.26       645.26          108   \n",
       "801                 1.71       1          0.59      3068.81          464   \n",
       "173                 2.42       0          0.48       591.83          133   \n",
       "7                   3.49       0          0.38      1117.90          108   \n",
       "\n",
       "     transaction_count  product_area_count  average_basket_value  \n",
       "719                  8                   4             26.480000  \n",
       "24                  32                   5             84.841250  \n",
       "129                 26                   4             44.713462  \n",
       "730                  9                   4             33.031111  \n",
       "153                 12                   3             77.045000  \n",
       "..                 ...                 ...                   ...  \n",
       "522                 22                   5             17.061818  \n",
       "589                 28                   5             23.045000  \n",
       "801                 51                   5             60.172745  \n",
       "173                 15                   3             39.455333  \n",
       "7                   19                   5             58.836842  \n",
       "\n",
       "[650 rows x 8 columns]"
      ]
     },
     "execution_count": 250,
     "metadata": {},
     "output_type": "execute_result"
    }
   ],
   "source": [
    "Z_train_rf"
   ]
  },
  {
   "cell_type": "code",
   "execution_count": 252,
   "id": "65d23f99",
   "metadata": {},
   "outputs": [
    {
     "data": {
      "text/html": [
       "<div>\n",
       "<style scoped>\n",
       "    .dataframe tbody tr th:only-of-type {\n",
       "        vertical-align: middle;\n",
       "    }\n",
       "\n",
       "    .dataframe tbody tr th {\n",
       "        vertical-align: top;\n",
       "    }\n",
       "\n",
       "    .dataframe thead th {\n",
       "        text-align: right;\n",
       "    }\n",
       "</style>\n",
       "<table border=\"1\" class=\"dataframe\">\n",
       "  <thead>\n",
       "    <tr style=\"text-align: right;\">\n",
       "      <th></th>\n",
       "      <th>distance_from_store</th>\n",
       "      <th>gender</th>\n",
       "      <th>credit_score</th>\n",
       "      <th>total_sales</th>\n",
       "      <th>total_items</th>\n",
       "      <th>transaction_count</th>\n",
       "      <th>product_area_count</th>\n",
       "      <th>average_basket_value</th>\n",
       "    </tr>\n",
       "  </thead>\n",
       "  <tbody>\n",
       "    <tr>\n",
       "      <th>833</th>\n",
       "      <td>0.19</td>\n",
       "      <td>1</td>\n",
       "      <td>0.75</td>\n",
       "      <td>2231.09</td>\n",
       "      <td>179</td>\n",
       "      <td>28</td>\n",
       "      <td>5</td>\n",
       "      <td>79.681786</td>\n",
       "    </tr>\n",
       "    <tr>\n",
       "      <th>182</th>\n",
       "      <td>2.34</td>\n",
       "      <td>0</td>\n",
       "      <td>0.50</td>\n",
       "      <td>1153.03</td>\n",
       "      <td>228</td>\n",
       "      <td>23</td>\n",
       "      <td>3</td>\n",
       "      <td>50.131739</td>\n",
       "    </tr>\n",
       "    <tr>\n",
       "      <th>335</th>\n",
       "      <td>3.96</td>\n",
       "      <td>0</td>\n",
       "      <td>0.59</td>\n",
       "      <td>1315.60</td>\n",
       "      <td>236</td>\n",
       "      <td>28</td>\n",
       "      <td>4</td>\n",
       "      <td>46.985714</td>\n",
       "    </tr>\n",
       "    <tr>\n",
       "      <th>729</th>\n",
       "      <td>1.06</td>\n",
       "      <td>1</td>\n",
       "      <td>0.55</td>\n",
       "      <td>136.75</td>\n",
       "      <td>47</td>\n",
       "      <td>6</td>\n",
       "      <td>4</td>\n",
       "      <td>22.791667</td>\n",
       "    </tr>\n",
       "    <tr>\n",
       "      <th>244</th>\n",
       "      <td>3.04</td>\n",
       "      <td>0</td>\n",
       "      <td>0.43</td>\n",
       "      <td>1136.38</td>\n",
       "      <td>151</td>\n",
       "      <td>28</td>\n",
       "      <td>5</td>\n",
       "      <td>40.585000</td>\n",
       "    </tr>\n",
       "    <tr>\n",
       "      <th>...</th>\n",
       "      <td>...</td>\n",
       "      <td>...</td>\n",
       "      <td>...</td>\n",
       "      <td>...</td>\n",
       "      <td>...</td>\n",
       "      <td>...</td>\n",
       "      <td>...</td>\n",
       "      <td>...</td>\n",
       "    </tr>\n",
       "    <tr>\n",
       "      <th>111</th>\n",
       "      <td>3.92</td>\n",
       "      <td>0</td>\n",
       "      <td>0.87</td>\n",
       "      <td>254.44</td>\n",
       "      <td>55</td>\n",
       "      <td>6</td>\n",
       "      <td>4</td>\n",
       "      <td>42.406667</td>\n",
       "    </tr>\n",
       "    <tr>\n",
       "      <th>495</th>\n",
       "      <td>0.73</td>\n",
       "      <td>0</td>\n",
       "      <td>0.35</td>\n",
       "      <td>405.53</td>\n",
       "      <td>102</td>\n",
       "      <td>24</td>\n",
       "      <td>4</td>\n",
       "      <td>16.897083</td>\n",
       "    </tr>\n",
       "    <tr>\n",
       "      <th>326</th>\n",
       "      <td>0.17</td>\n",
       "      <td>1</td>\n",
       "      <td>0.47</td>\n",
       "      <td>578.78</td>\n",
       "      <td>137</td>\n",
       "      <td>26</td>\n",
       "      <td>4</td>\n",
       "      <td>22.260769</td>\n",
       "    </tr>\n",
       "    <tr>\n",
       "      <th>716</th>\n",
       "      <td>4.12</td>\n",
       "      <td>0</td>\n",
       "      <td>0.58</td>\n",
       "      <td>74.23</td>\n",
       "      <td>25</td>\n",
       "      <td>5</td>\n",
       "      <td>4</td>\n",
       "      <td>14.846000</td>\n",
       "    </tr>\n",
       "    <tr>\n",
       "      <th>192</th>\n",
       "      <td>2.84</td>\n",
       "      <td>0</td>\n",
       "      <td>0.46</td>\n",
       "      <td>689.86</td>\n",
       "      <td>103</td>\n",
       "      <td>9</td>\n",
       "      <td>3</td>\n",
       "      <td>76.651111</td>\n",
       "    </tr>\n",
       "  </tbody>\n",
       "</table>\n",
       "<p>163 rows × 8 columns</p>\n",
       "</div>"
      ],
      "text/plain": [
       "     distance_from_store  gender  credit_score  total_sales  total_items  \\\n",
       "833                 0.19       1          0.75      2231.09          179   \n",
       "182                 2.34       0          0.50      1153.03          228   \n",
       "335                 3.96       0          0.59      1315.60          236   \n",
       "729                 1.06       1          0.55       136.75           47   \n",
       "244                 3.04       0          0.43      1136.38          151   \n",
       "..                   ...     ...           ...          ...          ...   \n",
       "111                 3.92       0          0.87       254.44           55   \n",
       "495                 0.73       0          0.35       405.53          102   \n",
       "326                 0.17       1          0.47       578.78          137   \n",
       "716                 4.12       0          0.58        74.23           25   \n",
       "192                 2.84       0          0.46       689.86          103   \n",
       "\n",
       "     transaction_count  product_area_count  average_basket_value  \n",
       "833                 28                   5             79.681786  \n",
       "182                 23                   3             50.131739  \n",
       "335                 28                   4             46.985714  \n",
       "729                  6                   4             22.791667  \n",
       "244                 28                   5             40.585000  \n",
       "..                 ...                 ...                   ...  \n",
       "111                  6                   4             42.406667  \n",
       "495                 24                   4             16.897083  \n",
       "326                 26                   4             22.260769  \n",
       "716                  5                   4             14.846000  \n",
       "192                  9                   3             76.651111  \n",
       "\n",
       "[163 rows x 8 columns]"
      ]
     },
     "execution_count": 252,
     "metadata": {},
     "output_type": "execute_result"
    }
   ],
   "source": [
    "Z_test_rf"
   ]
  },
  {
   "cell_type": "code",
   "execution_count": 254,
   "id": "ce4b24ab",
   "metadata": {},
   "outputs": [],
   "source": [
    "rf = RandomForestClassifier(random_state = 23, n_estimators = 500, max_features = 5)"
   ]
  },
  {
   "cell_type": "code",
   "execution_count": 255,
   "id": "50e81562",
   "metadata": {},
   "outputs": [
    {
     "data": {
      "text/plain": [
       "RandomForestClassifier(max_features=5, n_estimators=500, random_state=23)"
      ]
     },
     "execution_count": 255,
     "metadata": {},
     "output_type": "execute_result"
    }
   ],
   "source": [
    "rf.fit(Z_train_rf, y_train)"
   ]
  },
  {
   "cell_type": "code",
   "execution_count": 256,
   "id": "87c56462",
   "metadata": {},
   "outputs": [],
   "source": [
    "y_pred_class_rf = rf.predict(Z_test_rf)\n",
    "y_pred_prob_rf = rf.predict_proba(Z_test_rf)[:,1]\n"
   ]
  },
  {
   "cell_type": "code",
   "execution_count": 257,
   "id": "39095fd0",
   "metadata": {},
   "outputs": [
    {
     "data": {
      "image/png": "[encoded data removed]",
      "text/plain": [
       "<Figure size 633.6x633.6 with 1 Axes>"
      ]
     },
     "metadata": {
      "needs_background": "light"
     },
     "output_type": "display_data"
    }
   ],
   "source": [
    "# create the confusion matrix\n",
    "conf_matrix = confusion_matrix(y_test, y_pred_class_rf)\n",
    "\n",
    "# plot the confusion matrix\n",
    "plt.style.use(\"seaborn-poster\")\n",
    "plt.matshow(conf_matrix, cmap = \"coolwarm\")\n",
    "plt.gca().xaxis.tick_bottom()\n",
    "plt.title(\"Confusion Matrix\")\n",
    "plt.ylabel(\"Actual Class\")\n",
    "plt.xlabel(\"Predicted Class\")\n",
    "for (i, j), corr_value in np.ndenumerate(conf_matrix):\n",
    "    plt.text(j, i, corr_value, ha = \"center\", va = \"center\", fontsize = 20)\n",
    "plt.show()"
   ]
  },
  {
   "cell_type": "code",
   "execution_count": 330,
   "id": "ca2447da",
   "metadata": {},
   "outputs": [
    {
     "name": "stdout",
     "output_type": "stream",
     "text": [
      "Accuracy score is 95.71, meaning the model correctly predicts 95.71% of the test set observations\n",
      "Precision score is 93.18, meaning for our predicted delivery club signups, the model was correct 93.18% of the time\n",
      "Recall score is 91.11, meaning of allactual delivery club signups, the model correctly predicts 91.11% of the time\n",
      "F1 score is 0.92\n"
     ]
    }
   ],
   "source": [
    "accuracy_rf = round(accuracy_score(y_test, y_pred_class_rf)*100, 2)\n",
    "print(f\"Accuracy score is {accuracy_rf}, meaning the model correctly predicts {accuracy_rf}% of the test set observations\")\n",
    "\n",
    "# precision\n",
    "precision_rf = round(precision_score(y_test, y_pred_class_rf)*100, 2)\n",
    "print(f\"Precision score is {precision_rf}, meaning for our predicted delivery club signups, the model was correct {precision_rf}% of the time\")\n",
    "\n",
    "# recall\n",
    "recall_rf = round(recall_score(y_test, y_pred_class_rf)*100, 2)\n",
    "print(f\"Recall score is {recall_rf}, meaning of allactual delivery club signups, the model correctly predicts {recall_rf}% of the time\")\n",
    "\n",
    "# f1-score\n",
    "f1_rf = round(f1_score(y_test, y_pred_class_rf), 2)\n",
    "print(f\"F1 score is {f1_rf}\")"
   ]
  },
  {
   "cell_type": "code",
   "execution_count": 259,
   "id": "dd3e9982",
   "metadata": {},
   "outputs": [
    {
     "data": {
      "text/plain": [
       "array([0.44067598, 0.07682073, 0.02565538, 0.11114866, 0.04675597,\n",
       "       0.06290855, 0.15752548, 0.07850924])"
      ]
     },
     "execution_count": 259,
     "metadata": {},
     "output_type": "execute_result"
    }
   ],
   "source": [
    "rf.feature_importances_"
   ]
  },
  {
   "cell_type": "code",
   "execution_count": 272,
   "id": "97fdf710",
   "metadata": {},
   "outputs": [
    {
     "name": "stdout",
     "output_type": "stream",
     "text": [
      "          Feature Names  Feature Importance\n",
      "2          credit_score            0.025655\n",
      "4           total_items            0.046756\n",
      "5     transaction_count            0.062909\n",
      "1                gender            0.076821\n",
      "7  average_basket_value            0.078509\n",
      "3           total_sales            0.111149\n",
      "6    product_area_count            0.157525\n",
      "0   distance_from_store            0.440676\n"
     ]
    },
    {
     "data": {
      "image/png": "[encoded data removed]",
      "text/plain": [
       "<Figure size 921.6x633.6 with 1 Axes>"
      ]
     },
     "metadata": {
      "needs_background": "light"
     },
     "output_type": "display_data"
    }
   ],
   "source": [
    "feature_importance = rf.feature_importances_\n",
    "feature_names = X.columns\n",
    "feature_importance_summary = pd.DataFrame({'Feature Names': feature_names, 'Feature Importance': feature_importance})\n",
    "feature_importance_summary.sort_values(by = \"Feature Importance\", inplace = True)\n",
    "print(feature_importance_summary)\n",
    "\n",
    "\n",
    "# plot feature importance\n",
    "plt.barh(feature_importance_summary[\"Feature Names\"],feature_importance_summary[\"Feature Importance\"])\n",
    "plt.title(\"Feature Importance of Random Forest\")\n",
    "plt.xlabel(\"Feature Importance\")\n",
    "plt.tight_layout()\n",
    "plt.show()"
   ]
  },
  {
   "cell_type": "code",
   "execution_count": 274,
   "id": "fa534c6e",
   "metadata": {},
   "outputs": [
    {
     "data": {
      "image/png": "[encoded data removed]",
      "text/plain": [
       "<Figure size 921.6x633.6 with 1 Axes>"
      ]
     },
     "metadata": {
      "needs_background": "light"
     },
     "output_type": "display_data"
    }
   ],
   "source": [
    "# calculate permutation importance\n",
    "result = permutation_importance(rf, Z_test_rf, y_test, n_repeats = 10, random_state = 23)\n",
    "permutation_importance = pd.DataFrame(result[\"importances_mean\"])\n",
    "feature_names = pd.DataFrame(X.columns)\n",
    "permutation_importance_summary = pd.concat([feature_names,permutation_importance], axis = 1)\n",
    "permutation_importance_summary.columns = [\"input_variable\",\"permutation_importance\"]\n",
    "permutation_importance_summary.sort_values(by = \"permutation_importance\", inplace = True)\n",
    "\n",
    "# plot permutation importance\n",
    "plt.barh(permutation_importance_summary[\"input_variable\"],permutation_importance_summary[\"permutation_importance\"])\n",
    "plt.title(\"Permutation Importance of Random Forest\")\n",
    "plt.xlabel(\"Permutation Importance\")\n",
    "plt.tight_layout()\n",
    "plt.show()"
   ]
  },
  {
   "cell_type": "markdown",
   "id": "4c77ac81",
   "metadata": {},
   "source": [
    "# K Nearest Neighbours <a name=\"knn-title\"></a>\n"
   ]
  },
  {
   "cell_type": "code",
   "execution_count": 277,
   "id": "4598fc3b",
   "metadata": {},
   "outputs": [],
   "source": [
    "from sklearn.neighbors import KNeighborsClassifier"
   ]
  },
  {
   "cell_type": "code",
   "execution_count": 280,
   "id": "9e314160",
   "metadata": {},
   "outputs": [],
   "source": [
    "mapper = DataFrameMapper([\n",
    "    (['distance_from_store'], MinMaxScaler()), \n",
    "      ('gender', LabelBinarizer()), \n",
    "      (['credit_score'], MinMaxScaler()),\n",
    "      (['total_sales'],MinMaxScaler()),\n",
    "       (['total_items'], MinMaxScaler()),\n",
    "      (['transaction_count'],MinMaxScaler()), \n",
    "      (['product_area_count'],MinMaxScaler()), \n",
    "       (['average_basket_value'], MinMaxScaler())], df_out = True)"
   ]
  },
  {
   "cell_type": "code",
   "execution_count": 281,
   "id": "35aad7e8",
   "metadata": {
    "scrolled": false
   },
   "outputs": [
    {
     "data": {
      "text/plain": [
       "DataFrameMapper(df_out=True, drop_cols=[],\n",
       "                features=[(['distance_from_store'], MinMaxScaler()),\n",
       "                          ('gender', LabelBinarizer()),\n",
       "                          (['credit_score'], MinMaxScaler()),\n",
       "                          (['total_sales'], MinMaxScaler()),\n",
       "                          (['total_items'], MinMaxScaler()),\n",
       "                          (['transaction_count'], MinMaxScaler()),\n",
       "                          (['product_area_count'], MinMaxScaler()),\n",
       "                          (['average_basket_value'], MinMaxScaler())])"
      ]
     },
     "execution_count": 281,
     "metadata": {},
     "output_type": "execute_result"
    }
   ],
   "source": [
    "mapper.fit(X_train)"
   ]
  },
  {
   "cell_type": "code",
   "execution_count": 282,
   "id": "b413c240",
   "metadata": {},
   "outputs": [],
   "source": [
    "Z_train_knn = mapper.transform(X_train)\n",
    "Z_test_knn = mapper.transform(X_test)"
   ]
  },
  {
   "cell_type": "code",
   "execution_count": 283,
   "id": "1daadefd",
   "metadata": {},
   "outputs": [
    {
     "data": {
      "text/html": [
       "<div>\n",
       "<style scoped>\n",
       "    .dataframe tbody tr th:only-of-type {\n",
       "        vertical-align: middle;\n",
       "    }\n",
       "\n",
       "    .dataframe tbody tr th {\n",
       "        vertical-align: top;\n",
       "    }\n",
       "\n",
       "    .dataframe thead th {\n",
       "        text-align: right;\n",
       "    }\n",
       "</style>\n",
       "<table border=\"1\" class=\"dataframe\">\n",
       "  <thead>\n",
       "    <tr style=\"text-align: right;\">\n",
       "      <th></th>\n",
       "      <th>distance_from_store</th>\n",
       "      <th>gender</th>\n",
       "      <th>credit_score</th>\n",
       "      <th>total_sales</th>\n",
       "      <th>total_items</th>\n",
       "      <th>transaction_count</th>\n",
       "      <th>product_area_count</th>\n",
       "      <th>average_basket_value</th>\n",
       "    </tr>\n",
       "  </thead>\n",
       "  <tbody>\n",
       "    <tr>\n",
       "      <th>719</th>\n",
       "      <td>0.016156</td>\n",
       "      <td>1</td>\n",
       "      <td>0.688525</td>\n",
       "      <td>0.033358</td>\n",
       "      <td>0.065553</td>\n",
       "      <td>0.102941</td>\n",
       "      <td>0.75</td>\n",
       "      <td>0.262893</td>\n",
       "    </tr>\n",
       "    <tr>\n",
       "      <th>24</th>\n",
       "      <td>0.039248</td>\n",
       "      <td>0</td>\n",
       "      <td>0.786885</td>\n",
       "      <td>0.431445</td>\n",
       "      <td>0.395887</td>\n",
       "      <td>0.455882</td>\n",
       "      <td>1.00</td>\n",
       "      <td>0.891952</td>\n",
       "    </tr>\n",
       "    <tr>\n",
       "      <th>129</th>\n",
       "      <td>0.019580</td>\n",
       "      <td>0</td>\n",
       "      <td>0.475410</td>\n",
       "      <td>0.184558</td>\n",
       "      <td>0.236504</td>\n",
       "      <td>0.367647</td>\n",
       "      <td>0.75</td>\n",
       "      <td>0.459426</td>\n",
       "    </tr>\n",
       "    <tr>\n",
       "      <th>730</th>\n",
       "      <td>0.068838</td>\n",
       "      <td>0</td>\n",
       "      <td>0.672131</td>\n",
       "      <td>0.046947</td>\n",
       "      <td>0.091260</td>\n",
       "      <td>0.117647</td>\n",
       "      <td>0.75</td>\n",
       "      <td>0.333505</td>\n",
       "    </tr>\n",
       "    <tr>\n",
       "      <th>153</th>\n",
       "      <td>0.014927</td>\n",
       "      <td>1</td>\n",
       "      <td>0.704918</td>\n",
       "      <td>0.146705</td>\n",
       "      <td>0.167095</td>\n",
       "      <td>0.161765</td>\n",
       "      <td>0.50</td>\n",
       "      <td>0.807919</td>\n",
       "    </tr>\n",
       "    <tr>\n",
       "      <th>...</th>\n",
       "      <td>...</td>\n",
       "      <td>...</td>\n",
       "      <td>...</td>\n",
       "      <td>...</td>\n",
       "      <td>...</td>\n",
       "      <td>...</td>\n",
       "      <td>...</td>\n",
       "      <td>...</td>\n",
       "    </tr>\n",
       "    <tr>\n",
       "      <th>522</th>\n",
       "      <td>0.009834</td>\n",
       "      <td>0</td>\n",
       "      <td>0.377049</td>\n",
       "      <td>0.059364</td>\n",
       "      <td>0.150386</td>\n",
       "      <td>0.308824</td>\n",
       "      <td>1.00</td>\n",
       "      <td>0.161377</td>\n",
       "    </tr>\n",
       "    <tr>\n",
       "      <th>589</th>\n",
       "      <td>0.001580</td>\n",
       "      <td>1</td>\n",
       "      <td>0.000000</td>\n",
       "      <td>0.102289</td>\n",
       "      <td>0.137532</td>\n",
       "      <td>0.397059</td>\n",
       "      <td>1.00</td>\n",
       "      <td>0.225868</td>\n",
       "    </tr>\n",
       "    <tr>\n",
       "      <th>801</th>\n",
       "      <td>0.015014</td>\n",
       "      <td>1</td>\n",
       "      <td>0.540984</td>\n",
       "      <td>0.487727</td>\n",
       "      <td>0.595116</td>\n",
       "      <td>0.735294</td>\n",
       "      <td>1.00</td>\n",
       "      <td>0.626057</td>\n",
       "    </tr>\n",
       "    <tr>\n",
       "      <th>173</th>\n",
       "      <td>0.021249</td>\n",
       "      <td>0</td>\n",
       "      <td>0.360656</td>\n",
       "      <td>0.093791</td>\n",
       "      <td>0.169666</td>\n",
       "      <td>0.205882</td>\n",
       "      <td>0.50</td>\n",
       "      <td>0.402750</td>\n",
       "    </tr>\n",
       "    <tr>\n",
       "      <th>7</th>\n",
       "      <td>0.030644</td>\n",
       "      <td>0</td>\n",
       "      <td>0.196721</td>\n",
       "      <td>0.177457</td>\n",
       "      <td>0.137532</td>\n",
       "      <td>0.264706</td>\n",
       "      <td>1.00</td>\n",
       "      <td>0.611658</td>\n",
       "    </tr>\n",
       "  </tbody>\n",
       "</table>\n",
       "<p>650 rows × 8 columns</p>\n",
       "</div>"
      ],
      "text/plain": [
       "     distance_from_store  gender  credit_score  total_sales  total_items  \\\n",
       "719             0.016156       1      0.688525     0.033358     0.065553   \n",
       "24              0.039248       0      0.786885     0.431445     0.395887   \n",
       "129             0.019580       0      0.475410     0.184558     0.236504   \n",
       "730             0.068838       0      0.672131     0.046947     0.091260   \n",
       "153             0.014927       1      0.704918     0.146705     0.167095   \n",
       "..                   ...     ...           ...          ...          ...   \n",
       "522             0.009834       0      0.377049     0.059364     0.150386   \n",
       "589             0.001580       1      0.000000     0.102289     0.137532   \n",
       "801             0.015014       1      0.540984     0.487727     0.595116   \n",
       "173             0.021249       0      0.360656     0.093791     0.169666   \n",
       "7               0.030644       0      0.196721     0.177457     0.137532   \n",
       "\n",
       "     transaction_count  product_area_count  average_basket_value  \n",
       "719           0.102941                0.75              0.262893  \n",
       "24            0.455882                1.00              0.891952  \n",
       "129           0.367647                0.75              0.459426  \n",
       "730           0.117647                0.75              0.333505  \n",
       "153           0.161765                0.50              0.807919  \n",
       "..                 ...                 ...                   ...  \n",
       "522           0.308824                1.00              0.161377  \n",
       "589           0.397059                1.00              0.225868  \n",
       "801           0.735294                1.00              0.626057  \n",
       "173           0.205882                0.50              0.402750  \n",
       "7             0.264706                1.00              0.611658  \n",
       "\n",
       "[650 rows x 8 columns]"
      ]
     },
     "execution_count": 283,
     "metadata": {},
     "output_type": "execute_result"
    }
   ],
   "source": [
    "Z_train_knn"
   ]
  },
  {
   "cell_type": "code",
   "execution_count": 284,
   "id": "170ad7db",
   "metadata": {},
   "outputs": [],
   "source": [
    "#using RFECV\n",
    "\n",
    "rfc = RandomForestClassifier(random_state = 23)\n",
    "feature_selector1 = RFECV(rfc)\n",
    "\n",
    "fit = feature_selector1.fit(Z_train_knn, y_train)"
   ]
  },
  {
   "cell_type": "code",
   "execution_count": 285,
   "id": "d297a2be",
   "metadata": {},
   "outputs": [
    {
     "name": "stdout",
     "output_type": "stream",
     "text": [
      "Optimal no of features: 4\n"
     ]
    }
   ],
   "source": [
    "optimal_feature_count = feature_selector1.n_features_\n",
    "print(f\"Optimal no of features: {optimal_feature_count}\")"
   ]
  },
  {
   "cell_type": "code",
   "execution_count": 288,
   "id": "2931539f",
   "metadata": {},
   "outputs": [],
   "source": [
    "support_results = feature_selector1.get_support()"
   ]
  },
  {
   "cell_type": "code",
   "execution_count": 289,
   "id": "2757aea3",
   "metadata": {},
   "outputs": [],
   "source": [
    "input = Z_train_knn.columns"
   ]
  },
  {
   "cell_type": "code",
   "execution_count": 293,
   "id": "e587c27a",
   "metadata": {},
   "outputs": [
    {
     "data": {
      "text/html": [
       "<div>\n",
       "<style scoped>\n",
       "    .dataframe tbody tr th:only-of-type {\n",
       "        vertical-align: middle;\n",
       "    }\n",
       "\n",
       "    .dataframe tbody tr th {\n",
       "        vertical-align: top;\n",
       "    }\n",
       "\n",
       "    .dataframe thead th {\n",
       "        text-align: right;\n",
       "    }\n",
       "</style>\n",
       "<table border=\"1\" class=\"dataframe\">\n",
       "  <thead>\n",
       "    <tr style=\"text-align: right;\">\n",
       "      <th></th>\n",
       "      <th>input</th>\n",
       "      <th>support_results</th>\n",
       "    </tr>\n",
       "  </thead>\n",
       "  <tbody>\n",
       "    <tr>\n",
       "      <th>0</th>\n",
       "      <td>distance_from_store</td>\n",
       "      <td>True</td>\n",
       "    </tr>\n",
       "    <tr>\n",
       "      <th>1</th>\n",
       "      <td>gender</td>\n",
       "      <td>False</td>\n",
       "    </tr>\n",
       "    <tr>\n",
       "      <th>2</th>\n",
       "      <td>credit_score</td>\n",
       "      <td>False</td>\n",
       "    </tr>\n",
       "    <tr>\n",
       "      <th>3</th>\n",
       "      <td>total_sales</td>\n",
       "      <td>True</td>\n",
       "    </tr>\n",
       "    <tr>\n",
       "      <th>4</th>\n",
       "      <td>total_items</td>\n",
       "      <td>False</td>\n",
       "    </tr>\n",
       "    <tr>\n",
       "      <th>5</th>\n",
       "      <td>transaction_count</td>\n",
       "      <td>False</td>\n",
       "    </tr>\n",
       "    <tr>\n",
       "      <th>6</th>\n",
       "      <td>product_area_count</td>\n",
       "      <td>True</td>\n",
       "    </tr>\n",
       "    <tr>\n",
       "      <th>7</th>\n",
       "      <td>average_basket_value</td>\n",
       "      <td>True</td>\n",
       "    </tr>\n",
       "  </tbody>\n",
       "</table>\n",
       "</div>"
      ],
      "text/plain": [
       "                  input  support_results\n",
       "0   distance_from_store             True\n",
       "1                gender            False\n",
       "2          credit_score            False\n",
       "3           total_sales             True\n",
       "4           total_items            False\n",
       "5     transaction_count            False\n",
       "6    product_area_count             True\n",
       "7  average_basket_value             True"
      ]
     },
     "execution_count": 293,
     "metadata": {},
     "output_type": "execute_result"
    }
   ],
   "source": [
    "optimal_feature_summary = pd.DataFrame({\n",
    "    'input': input, \n",
    "    'support_results': support_results\n",
    "})\n",
    "optimal_feature_summary"
   ]
  },
  {
   "cell_type": "code",
   "execution_count": 295,
   "id": "3a079177",
   "metadata": {},
   "outputs": [],
   "source": [
    "#limit train and test set to include only selected variables\n",
    "Z_train_knn = Z_train_knn.loc[:, feature_selector1.get_support()]\n",
    "Z_test_knn = Z_test_knn.loc[:, feature_selector1.get_support()]"
   ]
  },
  {
   "cell_type": "code",
   "execution_count": 296,
   "id": "1cc44f09",
   "metadata": {},
   "outputs": [
    {
     "data": {
      "image/png": "[encoded data removed]",
      "text/plain": [
       "<Figure size 921.6x633.6 with 1 Axes>"
      ]
     },
     "metadata": {
      "needs_background": "light"
     },
     "output_type": "display_data"
    }
   ],
   "source": [
    "plt.style.use('seaborn-poster')\n",
    "plt.plot(range(1, len(fit.cv_results_['mean_test_score']) + 1), fit.cv_results_['mean_test_score'], marker = \"o\")\n",
    "plt.ylabel(\"Classification Accuracy\")\n",
    "plt.xlabel(\"Number of Features\")\n",
    "plt.title(f\"Feature Selection using RFECV \\n Optimal number of features is {optimal_feature_count} (at score of {round(max(fit.cv_results_['mean_test_score']),4)})\")\n",
    "plt.tight_layout()\n",
    "plt.show()"
   ]
  },
  {
   "cell_type": "code",
   "execution_count": 297,
   "id": "d74366b4",
   "metadata": {},
   "outputs": [
    {
     "data": {
      "text/plain": [
       "KNeighborsClassifier()"
      ]
     },
     "execution_count": 297,
     "metadata": {},
     "output_type": "execute_result"
    }
   ],
   "source": [
    "knn = KNeighborsClassifier()\n",
    "knn.fit(Z_train_knn, y_train)"
   ]
  },
  {
   "cell_type": "code",
   "execution_count": 300,
   "id": "de2996ae",
   "metadata": {},
   "outputs": [],
   "source": [
    "# predict on the test set\n",
    "y_pred_class_knn = knn.predict(Z_test_knn)\n",
    "y_pred_prob_knn = knn.predict_proba(Z_test_knn)[:,1]\n"
   ]
  },
  {
   "cell_type": "code",
   "execution_count": 301,
   "id": "6c3924b8",
   "metadata": {},
   "outputs": [
    {
     "data": {
      "image/png": "[encoded data removed]",
      "text/plain": [
       "<Figure size 633.6x633.6 with 1 Axes>"
      ]
     },
     "metadata": {
      "needs_background": "light"
     },
     "output_type": "display_data"
    }
   ],
   "source": [
    "# create the confusion matrix\n",
    "conf_matrix = confusion_matrix(y_test, y_pred_class_knn)\n",
    "\n",
    "# plot the confusion matrix\n",
    "plt.style.use(\"seaborn-poster\")\n",
    "plt.matshow(conf_matrix, cmap = \"coolwarm\")\n",
    "plt.gca().xaxis.tick_bottom()\n",
    "plt.title(\"Confusion Matrix\")\n",
    "plt.ylabel(\"Actual Class\")\n",
    "plt.xlabel(\"Predicted Class\")\n",
    "for (i, j), corr_value in np.ndenumerate(conf_matrix):\n",
    "    plt.text(j, i, corr_value, ha = \"center\", va = \"center\", fontsize = 20)\n",
    "plt.show()"
   ]
  },
  {
   "cell_type": "code",
   "execution_count": 334,
   "id": "b8cda9a4",
   "metadata": {},
   "outputs": [
    {
     "name": "stdout",
     "output_type": "stream",
     "text": [
      "Accuracy score is 81.6, meaning the model coorectly predicts 81.6 % of the test set observations\n",
      "Precision score is 69.23, meaning for our predicted delivery club signups, the model was correct 69.23% of the time\n",
      "Recall score is 91.11, meaning of allactual delivery club signups, the model correctly predicts 60.0% of the time\n",
      "F1 score is 0.64\n"
     ]
    }
   ],
   "source": [
    "accuracy_knn = round(accuracy_score(y_test, y_pred_class_knn)*100, 2)\n",
    "print(f\"Accuracy score is {round(accuracy_knn, 2)}, meaning the model coorectly predicts {round(accuracy_knn, 2)} % of the test set observations\")\n",
    "\n",
    "# precision\n",
    "precision_knn = round(precision_score(y_test, y_pred_class_knn)*100, 2)\n",
    "print(f\"Precision score is {round(precision_knn, 2)}, meaning for our predicted delivery club signups, the model was correct {round(precision_knn, 2)}% of the time\")\n",
    "\n",
    "# recall\n",
    "recall_knn = round(recall_score(y_test, y_pred_class_knn)*100, 2)\n",
    "print(f\"Recall score is {round(recall_rf, 2)}, meaning of allactual delivery club signups, the model correctly predicts {round(recall_knn, 2)}% of the time\")\n",
    "\n",
    "# f1-score\n",
    "f1_knn = round(f1_score(y_test, y_pred_class_knn), 2)\n",
    "print(f\"F1 score is {round(f1_knn, 2)}\")"
   ]
  },
  {
   "cell_type": "code",
   "execution_count": 304,
   "id": "d7795f88",
   "metadata": {},
   "outputs": [
    {
     "data": {
      "image/png": "[encoded data removed]",
      "text/plain": [
       "<Figure size 921.6x633.6 with 1 Axes>"
      ]
     },
     "metadata": {
      "needs_background": "light"
     },
     "output_type": "display_data"
    }
   ],
   "source": [
    "# set up range for search, and empty list to append accuracy scores to\n",
    "k_list = list(range(2,25))\n",
    "accuracy_scores = []\n",
    "\n",
    "# loop through each possible value of k, train and validate model, append test set f1-score\n",
    "for k in k_list:\n",
    "    \n",
    "    knn = KNeighborsClassifier(n_neighbors = k)\n",
    "    knn.fit(Z_train_knn,y_train)\n",
    "    y_pred = knn.predict(Z_test_knn)\n",
    "    accuracy = f1_score(y_test,y_pred)\n",
    "    accuracy_scores.append(accuracy)\n",
    "    \n",
    "# store max accuracy, and optimal k value    \n",
    "max_accuracy = max(accuracy_scores)\n",
    "max_accuracy_idx = accuracy_scores.index(max_accuracy)\n",
    "optimal_k_value = k_list[max_accuracy_idx]\n",
    "\n",
    "# plot accuracy by max depth\n",
    "plt.plot(k_list,accuracy_scores)\n",
    "plt.scatter(optimal_k_value, max_accuracy, marker = \"x\", color = \"red\")\n",
    "plt.title(f\"Accuracy (F1 Score) by k \\n Optimal Value for k: {optimal_k_value} (Accuracy: {round(max_accuracy,4)})\")\n",
    "plt.xlabel(\"k\")\n",
    "plt.ylabel(\"Accuracy (F1 Score)\")\n",
    "plt.tight_layout()\n",
    "plt.show()\n"
   ]
  },
  {
   "cell_type": "markdown",
   "id": "5a174f99",
   "metadata": {},
   "source": [
    "### Modelling Summary"
   ]
  },
  {
   "cell_type": "code",
   "execution_count": 339,
   "id": "f30eb8fc",
   "metadata": {},
   "outputs": [],
   "source": [
    "models =[\"Logistic Regression\", \"Decision Tree\", \"Random Forest\", \"K Nearest Neighbors\"]\n",
    "accuracy_list = [accuracy_lr, accuracy_dt, accuracy_rf, accuracy_knn]\n",
    "precision_list = [precision_lr, precision_dt, precision_rf, precision_knn]\n",
    "recall_list=[recall_lr, recall_dt, recall_rf, recall_knn]\n",
    "f1_list = [f1_lr, f1_dt, f1_rf, f1_knn]"
   ]
  },
  {
   "cell_type": "code",
   "execution_count": 348,
   "id": "0c15645a",
   "metadata": {},
   "outputs": [
    {
     "data": {
      "text/html": [
       "<div>\n",
       "<style scoped>\n",
       "    .dataframe tbody tr th:only-of-type {\n",
       "        vertical-align: middle;\n",
       "    }\n",
       "\n",
       "    .dataframe tbody tr th {\n",
       "        vertical-align: top;\n",
       "    }\n",
       "\n",
       "    .dataframe thead th {\n",
       "        text-align: right;\n",
       "    }\n",
       "</style>\n",
       "<table border=\"1\" class=\"dataframe\">\n",
       "  <thead>\n",
       "    <tr style=\"text-align: right;\">\n",
       "      <th></th>\n",
       "      <th>Models</th>\n",
       "      <th>Accuracy</th>\n",
       "      <th>Precision</th>\n",
       "      <th>Recall</th>\n",
       "      <th>F1-score</th>\n",
       "    </tr>\n",
       "  </thead>\n",
       "  <tbody>\n",
       "    <tr>\n",
       "      <th>0</th>\n",
       "      <td>Logistic Regression</td>\n",
       "      <td>89.57</td>\n",
       "      <td>85.00</td>\n",
       "      <td>75.56</td>\n",
       "      <td>0.80</td>\n",
       "    </tr>\n",
       "    <tr>\n",
       "      <th>1</th>\n",
       "      <td>Decision Tree</td>\n",
       "      <td>96.93</td>\n",
       "      <td>93.48</td>\n",
       "      <td>95.56</td>\n",
       "      <td>0.95</td>\n",
       "    </tr>\n",
       "    <tr>\n",
       "      <th>2</th>\n",
       "      <td>Random Forest</td>\n",
       "      <td>95.71</td>\n",
       "      <td>93.18</td>\n",
       "      <td>91.11</td>\n",
       "      <td>0.92</td>\n",
       "    </tr>\n",
       "    <tr>\n",
       "      <th>3</th>\n",
       "      <td>K Nearest Neighbors</td>\n",
       "      <td>81.60</td>\n",
       "      <td>69.23</td>\n",
       "      <td>60.00</td>\n",
       "      <td>0.64</td>\n",
       "    </tr>\n",
       "  </tbody>\n",
       "</table>\n",
       "</div>"
      ],
      "text/plain": [
       "                Models  Accuracy  Precision  Recall  F1-score\n",
       "0  Logistic Regression     89.57      85.00   75.56      0.80\n",
       "1        Decision Tree     96.93      93.48   95.56      0.95\n",
       "2        Random Forest     95.71      93.18   91.11      0.92\n",
       "3  K Nearest Neighbors     81.60      69.23   60.00      0.64"
      ]
     },
     "execution_count": 348,
     "metadata": {},
     "output_type": "execute_result"
    }
   ],
   "source": [
    "summary = pd.DataFrame({\n",
    "    'Models': models, \n",
    "    'Accuracy': accuracy_list, \n",
    "    'Precision': precision_list, \n",
    "    'Recall': recall_list, \n",
    "    'F1-score': f1_list, \n",
    "})\n",
    "summary"
   ]
  },
  {
   "cell_type": "code",
   "execution_count": null,
   "id": "b4ff2c75",
   "metadata": {},
   "outputs": [],
   "source": []
  }
 ],
 "metadata": {
  "kernelspec": {
   "display_name": "Python 3 (ipykernel)",
   "language": "python",
   "name": "python3"
  },
  "language_info": {
   "codemirror_mode": {
    "name": "ipython",
    "version": 3
   },
   "file_extension": ".py",
   "mimetype": "text/x-python",
   "name": "python",
   "nbconvert_exporter": "python",
   "pygments_lexer": "ipython3",
   "version": "3.9.12"
  }
 },
 "nbformat": 4,
 "nbformat_minor": 5
}
